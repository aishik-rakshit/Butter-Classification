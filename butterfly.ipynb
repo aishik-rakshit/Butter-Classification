{
 "cells": [
  {
   "cell_type": "markdown",
   "metadata": {},
   "source": [
    "# Butterfly Detection"
   ]
  },
  {
   "cell_type": "markdown",
   "metadata": {},
   "source": [
    "Importing libraries"
   ]
  },
  {
   "cell_type": "code",
   "execution_count": 1,
   "metadata": {},
   "outputs": [],
   "source": [
    "import os\n",
    "os.environ['PYTHONHASHSEED'] = '0'\n",
    "import cv2\n",
    "from PIL import Image\n",
    "import tensorflow as tf\n",
    "import keras\n",
    "import numpy as np\n",
    "from tqdm import tqdm\n",
    "import pandas as pd\n",
    "import random \n",
    "from keras.utils import to_categorical\n",
    "from sklearn.preprocessing import StandardScaler\n",
    "from sklearn.preprocessing import OneHotEncoder\n",
    "from sklearn.preprocessing import Normalizer,LabelEncoder\n",
    "from sklearn.model_selection import train_test_split\n",
    "from sklearn.svm import SVC\n",
    "from sklearn.metrics import accuracy_score\n",
    "from sklearn.model_selection import KFold\n",
    "from keras.models import Sequential,Model\n",
    "from keras.layers import Dense, Dropout, Flatten\n",
    "from keras.layers import Conv2D, MaxPooling2D, BatchNormalization, Activation, AveragePooling2D, PReLU,Input, add,AveragePooling2D,ZeroPadding2D\n",
    "from keras.layers.merge import concatenate\n",
    "from tensorflow.keras.preprocessing.image import ImageDataGenerator,array_to_img, img_to_array, load_img\n",
    "from keras.callbacks import ModelCheckpoint,ReduceLROnPlateau,EarlyStopping\n",
    "from keras.initializers import Constant\n",
    "from keras.models import load_model\n",
    "from sklearn.model_selection import cross_val_score"
   ]
  },
  {
   "cell_type": "markdown",
   "metadata": {},
   "source": [
    "Setting random seeds for reproducability"
   ]
  },
  {
   "cell_type": "code",
   "execution_count": 2,
   "metadata": {},
   "outputs": [],
   "source": [
    "np.random.seed(123)\n",
    "random.seed(234) # setting random seeds . doesnt really work due to deteministic cudnn library\n",
    "tf.random.set_seed(345)"
   ]
  },
  {
   "cell_type": "markdown",
   "metadata": {},
   "source": [
    "Some code for GPU compatibility"
   ]
  },
  {
   "cell_type": "code",
   "execution_count": 3,
   "metadata": {},
   "outputs": [],
   "source": [
    "from tensorflow.compat.v1 import ConfigProto\n",
    "from tensorflow.compat.v1 import InteractiveSession\n",
    "\n",
    "config = ConfigProto()\n",
    "config.gpu_options.allow_growth = True\n",
    "session = InteractiveSession(config=config)"
   ]
  },
  {
   "cell_type": "markdown",
   "metadata": {},
   "source": [
    "To use mixed precission for faster training"
   ]
  },
  {
   "cell_type": "code",
   "execution_count": 4,
   "metadata": {},
   "outputs": [
    {
     "name": "stdout",
     "output_type": "stream",
     "text": [
      "INFO:tensorflow:Mixed precision compatibility check (mixed_float16): OK\n",
      "Your GPU will likely run quickly with dtype policy mixed_float16 as it has compute capability of at least 7.0. Your GPU: GeForce RTX 2060, compute capability 7.5\n"
     ]
    }
   ],
   "source": [
    "from tensorflow.keras.mixed_precision import experimental as mixed_precision\n",
    "policy = mixed_precision.Policy('mixed_float16')              # TO USE TENSOR CORES\n",
    "mixed_precision.set_policy(policy)"
   ]
  },
  {
   "cell_type": "markdown",
   "metadata": {},
   "source": [
    "Data Generators"
   ]
  },
  {
   "cell_type": "code",
   "execution_count": 5,
   "metadata": {},
   "outputs": [],
   "source": [
    "datagen=ImageDataGenerator(rescale=1./255,                    \n",
    "                                width_shift_range=0.2,\n",
    "                                height_shift_range=0.2,\n",
    "                                rotation_range=90,\n",
    "                                zoom_range=0.2,\n",
    "                                fill_mode='nearest',\n",
    "                                shear_range=0.2,\n",
    "                                 horizontal_flip=True\n",
    "                                )\n",
    "val_datagen=ImageDataGenerator(rescale=1./255)\n",
    "\n",
    "test_datagen=ImageDataGenerator(rescale=1./255)"
   ]
  },
  {
   "cell_type": "markdown",
   "metadata": {},
   "source": [
    "Making and Saving augmented images for using the same ones every time"
   ]
  },
  {
   "cell_type": "code",
   "execution_count": null,
   "metadata": {},
   "outputs": [],
   "source": [
    "count=0\n",
    "if not os.path.exists('train'):\n",
    "    os.mkdir('train')\n",
    "if not os.path.exists('val'):\n",
    "    os.mkdir('val')\n",
    "if not os.path.exists('train-aug'):\n",
    "    os.mkdir('train-aug')\n",
    "for i in tqdm(os.listdir('DATA/TRAIN')):\n",
    "    sub_path='DATA/TRAIN/'+i+'/'\n",
    "    os.mkdir('train/'+i)\n",
    "    os.mkdir('val/'+i)\n",
    "    os.mkdir('train-aug/'+i)\n",
    "    imgs=os.listdir(sub_path)\n",
    "    num=round(len(imgs)*0.1)\n",
    "    val_images=random.sample(imgs,num)\n",
    "    train_images=[item for item in imgs if item not in val_images]\n",
    "    for j in train_images:\n",
    "        img=Image.open(sub_path+j)\n",
    "        img=img.convert(\"RGB\")\n",
    "        img.save('train/'+i+'/'+j)\n",
    "        img=load_img(sub_path+j)\n",
    "        img=img_to_array(img)\n",
    "        img=img[:,:,:3]\n",
    "        #print(img.shape)\n",
    "        img=img.reshape((1,)+img.shape)\n",
    "        i_=0\n",
    "        for batch in datagen.flow(img,batch_size=1,save_to_dir='train-aug/'+i,save_format='jpeg'):\n",
    "            count+=1\n",
    "            i_+=1\n",
    "            if i_==5:\n",
    "                break\n",
    "    for j in val_images:\n",
    "        img=Image.open(sub_path+j)\n",
    "        img=img.convert(\"RGB\")\n",
    "        img.save('val/'+i+'/'+j)"
   ]
  },
  {
   "cell_type": "code",
   "execution_count": 7,
   "metadata": {},
   "outputs": [
    {
     "name": "stderr",
     "output_type": "stream",
     "text": [
      "100%|██████████████████████████████████████████████████████████████████████████████████| 50/50 [00:43<00:00,  1.16it/s]\n"
     ]
    }
   ],
   "source": [
    "X=[]\n",
    "y=[]\n",
    "for i in tqdm(os.listdir('DATA/TRAIN')):\n",
    "    sub_path='DATA/TRAIN/'+i+'/'\n",
    "    for img in os.listdir(sub_path):\n",
    "        img_path=sub_path+img\n",
    "        im=Image.open(img_path)\n",
    "        im=im.convert(\"RGB\")\n",
    "        im=im.resize((224,224))\n",
    "        im=np.asarray(im)\n",
    "        X.append(im)\n",
    "        y.append(i)\n",
    "X=np.asarray(X)\n",
    "y=np.asarray(y)"
   ]
  },
  {
   "cell_type": "code",
   "execution_count": 8,
   "metadata": {},
   "outputs": [
    {
     "name": "stderr",
     "output_type": "stream",
     "text": [
      "100%|████████████████████████████████████████████████████████████████████████████████████| 1/1 [00:05<00:00,  5.52s/it]\n"
     ]
    }
   ],
   "source": [
    "X_test=[]\n",
    "\n",
    "for i in tqdm(os.listdir('DATA/TEST2')):\n",
    "    sub_path='DATA/TEST2/'+i+'/'\n",
    "    for img in os.listdir(sub_path):\n",
    "        img_path=sub_path+img\n",
    "        im=Image.open(img_path)\n",
    "        im=im.convert(\"RGB\")\n",
    "        im=im.resize((224,224))\n",
    "        pixels=np.array(im)\n",
    "        X_test.append(pixels)\n",
    "X_test=np.asarray(X_test)        "
   ]
  },
  {
   "cell_type": "code",
   "execution_count": 9,
   "metadata": {},
   "outputs": [
    {
     "name": "stderr",
     "output_type": "stream",
     "text": [
      "100%|██████████████████████████████████████████████████████████████████████████████████| 50/50 [00:32<00:00,  1.52it/s]\n"
     ]
    }
   ],
   "source": [
    "X_train=[]\n",
    "y_train=[]\n",
    "for i in tqdm(os.listdir('train/')):\n",
    "    sub_path='train/'+i+'/'\n",
    "    for img in os.listdir(sub_path):\n",
    "        img_path=sub_path+img\n",
    "        im=Image.open(img_path)\n",
    "        im=im.convert(\"RGB\")\n",
    "        im=im.resize((224,224))\n",
    "        im=np.asarray(im)\n",
    "        X_train.append(im)\n",
    "        y_train.append(i)\n",
    "X_train=np.asarray(X_train)\n",
    "y_train=np.asarray(y_train)"
   ]
  },
  {
   "cell_type": "code",
   "execution_count": 10,
   "metadata": {},
   "outputs": [
    {
     "name": "stderr",
     "output_type": "stream",
     "text": [
      "100%|██████████████████████████████████████████████████████████████████████████████████| 50/50 [02:42<00:00,  3.25s/it]\n"
     ]
    }
   ],
   "source": [
    "X_train_aug=[]\n",
    "y_train_aug=[]\n",
    "for i in tqdm(os.listdir('train-aug/')):\n",
    "    sub_path='train-aug/'+i+'/'\n",
    "    for img in os.listdir(sub_path):\n",
    "        img_path=sub_path+img\n",
    "        im=Image.open(img_path)\n",
    "        im=im.convert(\"RGB\")\n",
    "        im=im.resize((224,224))\n",
    "        im=np.asarray(im)\n",
    "        X_train_aug.append(im)\n",
    "        y_train_aug.append(i)\n",
    "X_train_aug=np.asarray(X_train_aug)\n",
    "y_train_aug=np.asarray(y_train_aug)"
   ]
  },
  {
   "cell_type": "code",
   "execution_count": 11,
   "metadata": {},
   "outputs": [
    {
     "name": "stderr",
     "output_type": "stream",
     "text": [
      "100%|██████████████████████████████████████████████████████████████████████████████████| 50/50 [00:03<00:00, 12.58it/s]\n"
     ]
    }
   ],
   "source": [
    "X_val=[]\n",
    "y_val=[]\n",
    "for i in tqdm(os.listdir('val/')):\n",
    "    sub_path='val/'+i+'/'\n",
    "    for img in os.listdir(sub_path):\n",
    "        img_path=sub_path+img\n",
    "        im=Image.open(img_path)\n",
    "        im=im.convert(\"RGB\")\n",
    "        im=im.resize((224,224))\n",
    "        im=np.asarray(im)\n",
    "        X_val.append(im)\n",
    "        y_val.append(i)\n",
    "X_val=np.asarray(X_val)\n",
    "y_val=np.asarray(y_val)"
   ]
  },
  {
   "cell_type": "code",
   "execution_count": 12,
   "metadata": {},
   "outputs": [
    {
     "name": "stdout",
     "output_type": "stream",
     "text": [
      "(4479, 224, 224, 3)\n",
      "(4479,)\n",
      "(4035, 224, 224, 3)\n",
      "(4035,)\n",
      "(19750, 224, 224, 3)\n",
      "(19750,)\n",
      "(444, 224, 224, 3)\n",
      "(444,)\n",
      "(500, 224, 224, 3)\n"
     ]
    }
   ],
   "source": [
    "print(X.shape)\n",
    "print(y.shape)\n",
    "print(X_train.shape)\n",
    "print(y_train.shape)\n",
    "print(X_train_aug.shape)\n",
    "print(y_train_aug.shape)\n",
    "print(X_val.shape)\n",
    "print(y_val.shape)\n",
    "print(X_test.shape)"
   ]
  },
  {
   "cell_type": "markdown",
   "metadata": {},
   "source": [
    "Converting names to numbers then converting it to a one hot encoding"
   ]
  },
  {
   "cell_type": "code",
   "execution_count": 13,
   "metadata": {},
   "outputs": [],
   "source": [
    "enc=LabelEncoder()\n",
    "y=enc.fit_transform(y)\n",
    "y_train=enc.transform(y_train)\n",
    "y_train_aug=enc.transform(y_train_aug)\n",
    "y_val=enc.transform(y_val)\n",
    "y_c=to_categorical(y)\n",
    "y_trainc=to_categorical(y_train)\n",
    "y_train_augc=to_categorical(y_train_aug)\n",
    "y_valc=to_categorical(y_val)"
   ]
  },
  {
   "cell_type": "code",
   "execution_count": 14,
   "metadata": {},
   "outputs": [
    {
     "name": "stdout",
     "output_type": "stream",
     "text": [
      "(4479, 224, 224, 3)\n",
      "(4479,)\n",
      "(4035, 224, 224, 3)\n",
      "(4035, 50)\n",
      "(19750, 224, 224, 3)\n",
      "(19750, 50)\n",
      "(444, 224, 224, 3)\n",
      "(444, 50)\n",
      "(500, 224, 224, 3)\n"
     ]
    }
   ],
   "source": [
    "print(X.shape)\n",
    "print(y.shape)\n",
    "print(X_train.shape)\n",
    "print(y_trainc.shape)\n",
    "print(X_train_aug.shape)\n",
    "print(y_train_augc.shape)\n",
    "print(X_val.shape)\n",
    "print(y_valc.shape)\n",
    "print(X_test.shape)"
   ]
  },
  {
   "cell_type": "markdown",
   "metadata": {},
   "source": [
    "# model 1 : (C-M)x2 (C-M-B-D)x2 5xD"
   ]
  },
  {
   "cell_type": "code",
   "execution_count": 15,
   "metadata": {},
   "outputs": [
    {
     "name": "stdout",
     "output_type": "stream",
     "text": [
      "Model: \"sequential\"\n",
      "_________________________________________________________________\n",
      "Layer (type)                 Output Shape              Param #   \n",
      "=================================================================\n",
      "conv2d (Conv2D)              (None, 222, 222, 32)      896       \n",
      "_________________________________________________________________\n",
      "max_pooling2d (MaxPooling2D) (None, 111, 111, 32)      0         \n",
      "_________________________________________________________________\n",
      "conv2d_1 (Conv2D)            (None, 109, 109, 64)      18496     \n",
      "_________________________________________________________________\n",
      "max_pooling2d_1 (MaxPooling2 (None, 54, 54, 64)        0         \n",
      "_________________________________________________________________\n",
      "conv2d_2 (Conv2D)            (None, 52, 52, 128)       73856     \n",
      "_________________________________________________________________\n",
      "max_pooling2d_2 (MaxPooling2 (None, 26, 26, 128)       0         \n",
      "_________________________________________________________________\n",
      "batch_normalization (BatchNo (None, 26, 26, 128)       512       \n",
      "_________________________________________________________________\n",
      "dropout (Dropout)            (None, 26, 26, 128)       0         \n",
      "_________________________________________________________________\n",
      "conv2d_3 (Conv2D)            (None, 24, 24, 256)       295168    \n",
      "_________________________________________________________________\n",
      "max_pooling2d_3 (MaxPooling2 (None, 12, 12, 256)       0         \n",
      "_________________________________________________________________\n",
      "batch_normalization_1 (Batch (None, 12, 12, 256)       1024      \n",
      "_________________________________________________________________\n",
      "dropout_1 (Dropout)          (None, 12, 12, 256)       0         \n",
      "_________________________________________________________________\n",
      "conv2d_4 (Conv2D)            (None, 11, 11, 512)       524800    \n",
      "_________________________________________________________________\n",
      "max_pooling2d_4 (MaxPooling2 (None, 5, 5, 512)         0         \n",
      "_________________________________________________________________\n",
      "batch_normalization_2 (Batch (None, 5, 5, 512)         2048      \n",
      "_________________________________________________________________\n",
      "dropout_2 (Dropout)          (None, 5, 5, 512)         0         \n",
      "_________________________________________________________________\n",
      "flatten (Flatten)            (None, 12800)             0         \n",
      "_________________________________________________________________\n",
      "dense (Dense)                (None, 1024)              13108224  \n",
      "_________________________________________________________________\n",
      "dense_1 (Dense)              (None, 512)               524800    \n",
      "_________________________________________________________________\n",
      "dropout_3 (Dropout)          (None, 512)               0         \n",
      "_________________________________________________________________\n",
      "dense_2 (Dense)              (None, 256)               131328    \n",
      "_________________________________________________________________\n",
      "dropout_4 (Dropout)          (None, 256)               0         \n",
      "_________________________________________________________________\n",
      "dense_3 (Dense)              (None, 128)               32896     \n",
      "_________________________________________________________________\n",
      "dense_4 (Dense)              (None, 50)                6450      \n",
      "=================================================================\n",
      "Total params: 14,720,498\n",
      "Trainable params: 14,718,706\n",
      "Non-trainable params: 1,792\n",
      "_________________________________________________________________\n"
     ]
    }
   ],
   "source": [
    "cnn1 = Sequential()           #cnn structure 2X CMD - 2XCMBD - 5XDense\n",
    "cnn1.add(Conv2D(32, kernel_size=(3, 3), activation='relu', input_shape=(224,224,3)))\n",
    "cnn1.add(MaxPooling2D(pool_size=(2, 2)))\n",
    "\n",
    "\n",
    "cnn1.add(Conv2D(64, kernel_size=(3, 3), activation='relu'))\n",
    "cnn1.add(MaxPooling2D(pool_size=(2, 2)))\n",
    "\n",
    "\n",
    "cnn1.add(Conv2D(128, kernel_size=(3, 3), activation='relu'))\n",
    "cnn1.add(MaxPooling2D(pool_size=(2, 2)))\n",
    "cnn1.add(BatchNormalization())\n",
    "cnn1.add(Dropout(0.2))\n",
    "\n",
    "cnn1.add(Conv2D(256, kernel_size=(3, 3), activation='relu'))\n",
    "cnn1.add(MaxPooling2D(pool_size=(2, 2)))\n",
    "cnn1.add(BatchNormalization())\n",
    "cnn1.add(Dropout(0.2))\n",
    "\n",
    "cnn1.add(Conv2D(512, kernel_size=(2,2), activation='relu'))\n",
    "cnn1.add(MaxPooling2D(pool_size=(2, 2)))\n",
    "cnn1.add(BatchNormalization())\n",
    "cnn1.add(Dropout(0.2))\n",
    "\n",
    "cnn1.add(Flatten())\n",
    "\n",
    "cnn1.add(Dense(1024, activation='relu'))\n",
    "cnn1.add(Dense(512, activation='relu'))\n",
    "cnn1.add(Dropout(0.2))\n",
    "cnn1.add(Dense(256, activation='relu'))\n",
    "cnn1.add(Dropout(0.2))\n",
    "cnn1.add(Dense(128, activation='relu'))\n",
    "cnn1.add(Dense(50, activation='softmax'))\n",
    "\n",
    "cnn1.compile(loss=keras.losses.categorical_crossentropy,\n",
    "              optimizer=keras.optimizers.Adam(),\n",
    "              metrics=['accuracy'])\n",
    "\n",
    "cnn1.summary()"
   ]
  },
  {
   "cell_type": "code",
   "execution_count": 16,
   "metadata": {},
   "outputs": [
    {
     "name": "stdout",
     "output_type": "stream",
     "text": [
      "WARNING:tensorflow:`epsilon` argument is deprecated and will be removed, use `min_delta` instead.\n",
      "Epoch 1/10\n",
      "618/618 [==============================] - 42s 68ms/step - loss: 3.1572 - accuracy: 0.1600 - val_loss: 2.6242 - val_accuracy: 0.2162\n",
      "Epoch 2/10\n",
      "618/618 [==============================] - 41s 66ms/step - loss: 2.2744 - accuracy: 0.3318 - val_loss: 2.5242 - val_accuracy: 0.3468\n",
      "Epoch 3/10\n",
      "618/618 [==============================] - 41s 66ms/step - loss: 1.8359 - accuracy: 0.4472 - val_loss: 1.9951 - val_accuracy: 0.4414\n",
      "Epoch 4/10\n",
      "618/618 [==============================] - 41s 67ms/step - loss: 1.4991 - accuracy: 0.5477 - val_loss: 1.4098 - val_accuracy: 0.6059\n",
      "Epoch 5/10\n",
      "618/618 [==============================] - 43s 69ms/step - loss: 1.2089 - accuracy: 0.6256 - val_loss: 1.3572 - val_accuracy: 0.6239\n",
      "Epoch 6/10\n",
      "618/618 [==============================] - 43s 69ms/step - loss: 0.9793 - accuracy: 0.6981 - val_loss: 1.2581 - val_accuracy: 0.6689\n",
      "Epoch 7/10\n",
      "618/618 [==============================] - 43s 69ms/step - loss: 0.8027 - accuracy: 0.7464 - val_loss: 1.0951 - val_accuracy: 0.6892\n",
      "Epoch 8/10\n",
      "618/618 [==============================] - 42s 68ms/step - loss: 0.6627 - accuracy: 0.7902 - val_loss: 1.1501 - val_accuracy: 0.7140\n",
      "Epoch 9/10\n",
      "618/618 [==============================] - 42s 68ms/step - loss: 0.5529 - accuracy: 0.8296 - val_loss: 0.9981 - val_accuracy: 0.7748\n",
      "Epoch 10/10\n",
      "618/618 [==============================] - 42s 67ms/step - loss: 0.4799 - accuracy: 0.8546 - val_loss: 1.1112 - val_accuracy: 0.7410\n"
     ]
    }
   ],
   "source": [
    "reduce_lr_loss = ReduceLROnPlateau(monitor='val_loss', factor=0.1, patience=7, verbose=1, epsilon=1e-4, mode='min')\n",
    "early_stopping = EarlyStopping(monitor='val_loss',patience=10,restore_best_weights=True)\n",
    "\n",
    "history1= cnn1.fit(X_train_aug,y_train_augc,validation_data=(X_val,y_valc),callbacks=[reduce_lr_loss,early_stopping],epochs=10)"
   ]
  },
  {
   "cell_type": "code",
   "execution_count": 17,
   "metadata": {},
   "outputs": [
    {
     "data": {
      "image/png": "[encoded data removed]",
      "text/plain": [
       "<Figure size 432x288 with 1 Axes>"
      ]
     },
     "metadata": {
      "needs_background": "light"
     },
     "output_type": "display_data"
    },
    {
     "data": {
      "image/png": "[encoded data removed]",
      "text/plain": [
       "<Figure size 432x288 with 1 Axes>"
      ]
     },
     "metadata": {
      "needs_background": "light"
     },
     "output_type": "display_data"
    }
   ],
   "source": [
    "import matplotlib.pyplot as plt             # plot loss and accuracy\n",
    "plt.plot(history1.history['accuracy'])\n",
    "plt.plot(history1.history['val_accuracy'])\n",
    "plt.title('model accuracy')\n",
    "plt.ylabel('accuracy')\n",
    "plt.xlabel('epoch')\n",
    "plt.legend(['train', 'test'], loc='upper left')\n",
    "plt.show()\n",
    "\n",
    "plt.plot(history1.history['loss'])\n",
    "plt.plot(history1.history['val_loss'])\n",
    "plt.title('model loss')\n",
    "plt.ylabel('loss')\n",
    "plt.xlabel('epoch')\n",
    "plt.legend(['train', 'test'], loc='upper left')\n",
    "plt.show()"
   ]
  },
  {
   "cell_type": "code",
   "execution_count": 18,
   "metadata": {},
   "outputs": [
    {
     "name": "stdout",
     "output_type": "stream",
     "text": [
      "0.740990990990991\n"
     ]
    }
   ],
   "source": [
    "y_predv=cnn1.predict(X_val)\n",
    "y_predv=np.argmax(y_predv,axis=1)\n",
    "#y_vo=np.argmax(y_val,axis=1)\n",
    "print(accuracy_score(y_val,y_predv))"
   ]
  },
  {
   "cell_type": "code",
   "execution_count": 19,
   "metadata": {},
   "outputs": [],
   "source": [
    "y_pred1=cnn1.predict(X_test)\n",
    "y_pred1=np.argmax(y_pred1,axis=1)\n",
    "y_pred1=enc.inverse_transform(y_pred1)"
   ]
  },
  {
   "cell_type": "code",
   "execution_count": 20,
   "metadata": {},
   "outputs": [],
   "source": [
    "test_img=os.listdir('DATA/TEST2/TEST')"
   ]
  },
  {
   "cell_type": "code",
   "execution_count": 21,
   "metadata": {},
   "outputs": [],
   "source": [
    "submission=pd.DataFrame(columns=['Filename','Labels'])\n",
    "submission['Filename']=test_img\n",
    "submission['Labels']=y_pred1"
   ]
  },
  {
   "cell_type": "code",
   "execution_count": 22,
   "metadata": {},
   "outputs": [],
   "source": [
    "submission.to_csv('s_4c5d-aug.csv',index=None)"
   ]
  },
  {
   "cell_type": "markdown",
   "metadata": {},
   "source": [
    "# model 2 : (C-C-M)x2 (C-C-M-B) (C-M-B-D)x3 5xD"
   ]
  },
  {
   "cell_type": "code",
   "execution_count": 23,
   "metadata": {},
   "outputs": [
    {
     "name": "stdout",
     "output_type": "stream",
     "text": [
      "Model: \"sequential_1\"\n",
      "_________________________________________________________________\n",
      "Layer (type)                 Output Shape              Param #   \n",
      "=================================================================\n",
      "conv2d_5 (Conv2D)            (None, 222, 222, 32)      896       \n",
      "_________________________________________________________________\n",
      "conv2d_6 (Conv2D)            (None, 220, 220, 32)      9248      \n",
      "_________________________________________________________________\n",
      "max_pooling2d_5 (MaxPooling2 (None, 110, 110, 32)      0         \n",
      "_________________________________________________________________\n",
      "conv2d_7 (Conv2D)            (None, 108, 108, 64)      18496     \n",
      "_________________________________________________________________\n",
      "conv2d_8 (Conv2D)            (None, 106, 106, 64)      36928     \n",
      "_________________________________________________________________\n",
      "max_pooling2d_6 (MaxPooling2 (None, 53, 53, 64)        0         \n",
      "_________________________________________________________________\n",
      "conv2d_9 (Conv2D)            (None, 51, 51, 128)       73856     \n",
      "_________________________________________________________________\n",
      "conv2d_10 (Conv2D)           (None, 49, 49, 128)       147584    \n",
      "_________________________________________________________________\n",
      "max_pooling2d_7 (MaxPooling2 (None, 24, 24, 128)       0         \n",
      "_________________________________________________________________\n",
      "batch_normalization_3 (Batch (None, 24, 24, 128)       512       \n",
      "_________________________________________________________________\n",
      "conv2d_11 (Conv2D)           (None, 22, 22, 128)       147584    \n",
      "_________________________________________________________________\n",
      "conv2d_12 (Conv2D)           (None, 20, 20, 128)       147584    \n",
      "_________________________________________________________________\n",
      "max_pooling2d_8 (MaxPooling2 (None, 10, 10, 128)       0         \n",
      "_________________________________________________________________\n",
      "batch_normalization_4 (Batch (None, 10, 10, 128)       512       \n",
      "_________________________________________________________________\n",
      "conv2d_13 (Conv2D)           (None, 8, 8, 256)         295168    \n",
      "_________________________________________________________________\n",
      "max_pooling2d_9 (MaxPooling2 (None, 4, 4, 256)         0         \n",
      "_________________________________________________________________\n",
      "batch_normalization_5 (Batch (None, 4, 4, 256)         1024      \n",
      "_________________________________________________________________\n",
      "dropout_5 (Dropout)          (None, 4, 4, 256)         0         \n",
      "_________________________________________________________________\n",
      "conv2d_14 (Conv2D)           (None, 3, 3, 512)         524800    \n",
      "_________________________________________________________________\n",
      "max_pooling2d_10 (MaxPooling (None, 1, 1, 512)         0         \n",
      "_________________________________________________________________\n",
      "batch_normalization_6 (Batch (None, 1, 1, 512)         2048      \n",
      "_________________________________________________________________\n",
      "dropout_6 (Dropout)          (None, 1, 1, 512)         0         \n",
      "_________________________________________________________________\n",
      "flatten_1 (Flatten)          (None, 512)               0         \n",
      "_________________________________________________________________\n",
      "dense_5 (Dense)              (None, 1024)              525312    \n",
      "_________________________________________________________________\n",
      "dense_6 (Dense)              (None, 512)               524800    \n",
      "_________________________________________________________________\n",
      "dropout_7 (Dropout)          (None, 512)               0         \n",
      "_________________________________________________________________\n",
      "dense_7 (Dense)              (None, 256)               131328    \n",
      "_________________________________________________________________\n",
      "dropout_8 (Dropout)          (None, 256)               0         \n",
      "_________________________________________________________________\n",
      "dense_8 (Dense)              (None, 128)               32896     \n",
      "_________________________________________________________________\n",
      "dense_9 (Dense)              (None, 50)                6450      \n",
      "=================================================================\n",
      "Total params: 2,627,026\n",
      "Trainable params: 2,624,978\n",
      "Non-trainable params: 2,048\n",
      "_________________________________________________________________\n"
     ]
    }
   ],
   "source": [
    "cnn2 = Sequential()           #cnn structure 2X CMD - 2XCMBD - 5XDense\n",
    "cnn2.add(Conv2D(32, kernel_size=(3, 3), activation='relu', input_shape=(224,224,3)))\n",
    "cnn2.add(Conv2D(32, kernel_size=(3, 3), activation='relu'))\n",
    "cnn2.add(MaxPooling2D(pool_size=(2, 2)))\n",
    "\n",
    "\n",
    "cnn2.add(Conv2D(64, kernel_size=(3, 3), activation='relu'))\n",
    "cnn2.add(Conv2D(64, kernel_size=(3, 3), activation='relu'))\n",
    "cnn2.add(MaxPooling2D(pool_size=(2, 2)))\n",
    "\n",
    "\n",
    "cnn2.add(Conv2D(128, kernel_size=(3, 3), activation='relu'))\n",
    "cnn2.add(Conv2D(128, kernel_size=(3, 3), activation='relu'))\n",
    "cnn2.add(MaxPooling2D(pool_size=(2, 2)))\n",
    "cnn2.add(BatchNormalization())\n",
    "\n",
    "cnn2.add(Conv2D(128, kernel_size=(3, 3), activation='relu'))\n",
    "cnn2.add(Conv2D(128, kernel_size=(3, 3), activation='relu'))\n",
    "cnn2.add(MaxPooling2D(pool_size=(2, 2)))\n",
    "cnn2.add(BatchNormalization())\n",
    "\n",
    "cnn2.add(Conv2D(256, kernel_size=(3, 3), activation='relu'))\n",
    "cnn2.add(MaxPooling2D(pool_size=(2, 2)))\n",
    "cnn2.add(BatchNormalization())\n",
    "cnn2.add(Dropout(0.2))\n",
    "\n",
    "cnn2.add(Conv2D(512, kernel_size=(2,2), activation='relu'))\n",
    "cnn2.add(MaxPooling2D(pool_size=(2, 2)))\n",
    "cnn2.add(BatchNormalization())\n",
    "cnn2.add(Dropout(0.2))\n",
    "\n",
    "#cnn2.add(Conv2D(1024, kernel_size=(2,2), activation='relu'))\n",
    "#cnn2.add(MaxPooling2D(pool_size=(2, 2)))\n",
    "#cnn2.add(BatchNormalization())\n",
    "#cnn2.add(Dropout(0.2))\n",
    "\n",
    "cnn2.add(Flatten())\n",
    "\n",
    "cnn2.add(Dense(1024, activation='relu'))\n",
    "cnn2.add(Dense(512, activation='relu'))\n",
    "cnn2.add(Dropout(0.33))\n",
    "cnn2.add(Dense(256, activation='relu'))\n",
    "cnn2.add(Dropout(0.33))\n",
    "cnn2.add(Dense(128, activation='relu'))\n",
    "cnn2.add(Dense(50, activation='softmax'))\n",
    "\n",
    "cnn2.compile(loss=keras.losses.categorical_crossentropy,\n",
    "              optimizer=keras.optimizers.SGD(),\n",
    "              metrics=['accuracy'])\n",
    "\n",
    "\n",
    "\n",
    "cnn2.summary()"
   ]
  },
  {
   "cell_type": "code",
   "execution_count": 24,
   "metadata": {},
   "outputs": [
    {
     "name": "stdout",
     "output_type": "stream",
     "text": [
      "WARNING:tensorflow:`epsilon` argument is deprecated and will be removed, use `min_delta` instead.\n",
      "Epoch 1/10\n",
      "618/618 [==============================] - 63s 101ms/step - loss: 3.6970 - accuracy: 0.0626 - val_loss: 3.5925 - val_accuracy: 0.0743\n",
      "Epoch 2/10\n",
      "618/618 [==============================] - 62s 101ms/step - loss: 3.1105 - accuracy: 0.1397 - val_loss: 3.7666 - val_accuracy: 0.0878\n",
      "Epoch 3/10\n",
      "618/618 [==============================] - 63s 103ms/step - loss: 2.6591 - accuracy: 0.2283 - val_loss: 3.0554 - val_accuracy: 0.1802\n",
      "Epoch 4/10\n",
      "618/618 [==============================] - 64s 103ms/step - loss: 2.3529 - accuracy: 0.2985 - val_loss: 2.9121 - val_accuracy: 0.2230\n",
      "Epoch 5/10\n",
      "618/618 [==============================] - 64s 103ms/step - loss: 2.1392 - accuracy: 0.3609 - val_loss: 2.8466 - val_accuracy: 0.2477\n",
      "Epoch 6/10\n",
      "618/618 [==============================] - 64s 103ms/step - loss: 1.9543 - accuracy: 0.4085 - val_loss: 1.8644 - val_accuracy: 0.4550\n",
      "Epoch 7/10\n",
      "618/618 [==============================] - 64s 103ms/step - loss: 1.8119 - accuracy: 0.4467 - val_loss: 2.4117 - val_accuracy: 0.3896\n",
      "Epoch 8/10\n",
      "618/618 [==============================] - 64s 103ms/step - loss: 1.6699 - accuracy: 0.4877 - val_loss: 1.3602 - val_accuracy: 0.5878\n",
      "Epoch 9/10\n",
      "618/618 [==============================] - 63s 101ms/step - loss: 1.5489 - accuracy: 0.5245 - val_loss: 2.0429 - val_accuracy: 0.4302\n",
      "Epoch 10/10\n",
      "618/618 [==============================] - 62s 101ms/step - loss: 1.4436 - accuracy: 0.5470 - val_loss: 2.0625 - val_accuracy: 0.4302\n"
     ]
    }
   ],
   "source": [
    "reduce_lr_loss = ReduceLROnPlateau(monitor='val_loss', factor=0.1, patience=7, verbose=1, epsilon=1e-4, mode='min')\n",
    "early_stopping = EarlyStopping(monitor='val_loss',patience=20,restore_best_weights=True)\n",
    "\n",
    "history1= cnn2.fit(X_train_aug,y_train_augc,batch_size=32,validation_data=(X_val,y_valc),callbacks=[reduce_lr_loss,early_stopping],epochs=10)"
   ]
  },
  {
   "cell_type": "code",
   "execution_count": 25,
   "metadata": {},
   "outputs": [
    {
     "data": {
      "image/png": "[encoded data removed]",
      "text/plain": [
       "<Figure size 432x288 with 1 Axes>"
      ]
     },
     "metadata": {
      "needs_background": "light"
     },
     "output_type": "display_data"
    },
    {
     "data": {
      "image/png": "[encoded data removed]",
      "text/plain": [
       "<Figure size 432x288 with 1 Axes>"
      ]
     },
     "metadata": {
      "needs_background": "light"
     },
     "output_type": "display_data"
    }
   ],
   "source": [
    "import matplotlib.pyplot as plt             # plot loss and accuracy\n",
    "plt.plot(history1.history['accuracy'])\n",
    "plt.plot(history1.history['val_accuracy'])\n",
    "plt.title('model accuracy')\n",
    "plt.ylabel('accuracy')\n",
    "plt.xlabel('epoch')\n",
    "plt.legend(['train', 'test'], loc='upper left')\n",
    "plt.show()\n",
    "\n",
    "plt.plot(history1.history['loss'])\n",
    "plt.plot(history1.history['val_loss'])\n",
    "plt.title('model loss')\n",
    "plt.ylabel('loss')\n",
    "plt.xlabel('epoch')\n",
    "plt.legend(['train', 'test'], loc='upper left')\n",
    "plt.show()"
   ]
  },
  {
   "cell_type": "code",
   "execution_count": 26,
   "metadata": {},
   "outputs": [
    {
     "name": "stdout",
     "output_type": "stream",
     "text": [
      "0.43018018018018017\n"
     ]
    }
   ],
   "source": [
    "y_pred=cnn2.predict(X_val)\n",
    "y_pred=np.argmax(y_pred,axis=1)\n",
    "print(accuracy_score(y_val,y_pred))"
   ]
  },
  {
   "cell_type": "code",
   "execution_count": 27,
   "metadata": {},
   "outputs": [],
   "source": [
    "submission=pd.DataFrame(columns=['Filename','Labels'])\n",
    "y_pred2=cnn2.predict(X_test)\n",
    "y_pred2=np.argmax(y_pred2,axis=1)\n",
    "y_pred2=enc.inverse_transform(y_pred2)\n",
    "submission['Filename']=test_img\n",
    "submission['Labels']=y_pred2\n",
    "submission.to_csv('6c5d-aug2.csv',index=None)"
   ]
  },
  {
   "cell_type": "markdown",
   "metadata": {},
   "source": [
    "# cnn2 with SVM"
   ]
  },
  {
   "cell_type": "code",
   "execution_count": 28,
   "metadata": {},
   "outputs": [
    {
     "name": "stdout",
     "output_type": "stream",
     "text": [
      "Model: \"sequential_2\"\n",
      "_________________________________________________________________\n",
      "Layer (type)                 Output Shape              Param #   \n",
      "=================================================================\n",
      "conv2d_5 (Conv2D)            (None, 222, 222, 32)      896       \n",
      "_________________________________________________________________\n",
      "conv2d_6 (Conv2D)            (None, 220, 220, 32)      9248      \n",
      "_________________________________________________________________\n",
      "max_pooling2d_5 (MaxPooling2 (None, 110, 110, 32)      0         \n",
      "_________________________________________________________________\n",
      "conv2d_7 (Conv2D)            (None, 108, 108, 64)      18496     \n",
      "_________________________________________________________________\n",
      "conv2d_8 (Conv2D)            (None, 106, 106, 64)      36928     \n",
      "_________________________________________________________________\n",
      "max_pooling2d_6 (MaxPooling2 (None, 53, 53, 64)        0         \n",
      "_________________________________________________________________\n",
      "conv2d_9 (Conv2D)            (None, 51, 51, 128)       73856     \n",
      "_________________________________________________________________\n",
      "conv2d_10 (Conv2D)           (None, 49, 49, 128)       147584    \n",
      "_________________________________________________________________\n",
      "max_pooling2d_7 (MaxPooling2 (None, 24, 24, 128)       0         \n",
      "_________________________________________________________________\n",
      "batch_normalization_3 (Batch (None, 24, 24, 128)       512       \n",
      "_________________________________________________________________\n",
      "conv2d_11 (Conv2D)           (None, 22, 22, 128)       147584    \n",
      "_________________________________________________________________\n",
      "conv2d_12 (Conv2D)           (None, 20, 20, 128)       147584    \n",
      "_________________________________________________________________\n",
      "max_pooling2d_8 (MaxPooling2 (None, 10, 10, 128)       0         \n",
      "_________________________________________________________________\n",
      "batch_normalization_4 (Batch (None, 10, 10, 128)       512       \n",
      "_________________________________________________________________\n",
      "conv2d_13 (Conv2D)           (None, 8, 8, 256)         295168    \n",
      "_________________________________________________________________\n",
      "max_pooling2d_9 (MaxPooling2 (None, 4, 4, 256)         0         \n",
      "_________________________________________________________________\n",
      "batch_normalization_5 (Batch (None, 4, 4, 256)         1024      \n",
      "_________________________________________________________________\n",
      "dropout_5 (Dropout)          (None, 4, 4, 256)         0         \n",
      "_________________________________________________________________\n",
      "conv2d_14 (Conv2D)           (None, 3, 3, 512)         524800    \n",
      "_________________________________________________________________\n",
      "max_pooling2d_10 (MaxPooling (None, 1, 1, 512)         0         \n",
      "_________________________________________________________________\n",
      "batch_normalization_6 (Batch (None, 1, 1, 512)         2048      \n",
      "_________________________________________________________________\n",
      "dropout_6 (Dropout)          (None, 1, 1, 512)         0         \n",
      "_________________________________________________________________\n",
      "flatten_1 (Flatten)          (None, 512)               0         \n",
      "=================================================================\n",
      "Total params: 1,406,240\n",
      "Trainable params: 1,404,192\n",
      "Non-trainable params: 2,048\n",
      "_________________________________________________________________\n"
     ]
    }
   ],
   "source": [
    "cnn3=cnn2.layers[:-7]\n",
    "cnn3=Sequential(cnn3)\n",
    "cnn3.summary()"
   ]
  },
  {
   "cell_type": "code",
   "execution_count": 29,
   "metadata": {},
   "outputs": [],
   "source": [
    "for layer in cnn3.layers:\n",
    "    layer.trainable=False"
   ]
  },
  {
   "cell_type": "code",
   "execution_count": 30,
   "metadata": {},
   "outputs": [],
   "source": [
    "X_ei=[]\n",
    "for i in os.listdir('DATA/TRAIN'):\n",
    "    sub_path='DATA/TRAIN/'+i+'/'\n",
    "    for img in os.listdir(sub_path):\n",
    "        img_path=sub_path+img\n",
    "        im=Image.open(img_path)\n",
    "        im=im.convert(\"RGB\")\n",
    "        im=im.resize((224,224))\n",
    "        im=np.asarray(im)\n",
    "        X_ei.append(im)"
   ]
  },
  {
   "cell_type": "code",
   "execution_count": 31,
   "metadata": {},
   "outputs": [
    {
     "name": "stderr",
     "output_type": "stream",
     "text": [
      "100%|██████████████████████████████████████████████████████████████████████████████████| 50/50 [02:42<00:00,  3.25s/it]\n"
     ]
    }
   ],
   "source": [
    "X_ei_a=[]\n",
    "for i in tqdm(os.listdir('train-aug/')):\n",
    "    sub_path='train-aug/'+i+'/'\n",
    "    for img in os.listdir(sub_path):\n",
    "        img_path=sub_path+img\n",
    "        im=Image.open(img_path)\n",
    "        im=im.convert(\"RGB\")\n",
    "        im=im.resize((224,224))\n",
    "        im=np.asarray(im)\n",
    "        X_ei_a.append(im)"
   ]
  },
  {
   "cell_type": "code",
   "execution_count": 32,
   "metadata": {},
   "outputs": [],
   "source": [
    "def get_embed(X):\n",
    "    count=0\n",
    "    X_=[] \n",
    "    for image in tqdm(X):\n",
    "        image=np.expand_dims(image,axis=0)\n",
    "        X_embed=cnn3.predict([image])\n",
    "        X_embed=X_embed.reshape(512,)\n",
    "        X_.append(X_embed)\n",
    "        count+=1\n",
    "        #print(count)\n",
    "    return np.asarray(X_)"
   ]
  },
  {
   "cell_type": "code",
   "execution_count": 33,
   "metadata": {},
   "outputs": [
    {
     "name": "stderr",
     "output_type": "stream",
     "text": [
      "100%|████████████████████████████████████████████████████████████████████████████| 19750/19750 [11:12<00:00, 29.37it/s]\n"
     ]
    }
   ],
   "source": [
    "X_train_e_a=get_embed(X_ei_a)"
   ]
  },
  {
   "cell_type": "code",
   "execution_count": 34,
   "metadata": {},
   "outputs": [
    {
     "data": {
      "text/plain": [
       "(19750, 512)"
      ]
     },
     "execution_count": 34,
     "metadata": {},
     "output_type": "execute_result"
    }
   ],
   "source": [
    "X_train_e_a.shape"
   ]
  },
  {
   "cell_type": "code",
   "execution_count": 35,
   "metadata": {},
   "outputs": [
    {
     "name": "stderr",
     "output_type": "stream",
     "text": [
      "100%|████████████████████████████████████████████████████████████████████████████████████| 1/1 [00:05<00:00,  5.88s/it]\n"
     ]
    }
   ],
   "source": [
    "X_tei=[]\n",
    "\n",
    "for i in tqdm(os.listdir('DATA/TEST2')):\n",
    "    sub_path='DATA/TEST2/'+i+'/'\n",
    "    for img in os.listdir(sub_path):\n",
    "        img_path=sub_path+img\n",
    "        im=Image.open(img_path)\n",
    "        im=im.convert(\"RGB\")\n",
    "        im=im.resize((224,224))\n",
    "        pixels=np.array(im)\n",
    "        X_tei.append(pixels)"
   ]
  },
  {
   "cell_type": "code",
   "execution_count": 36,
   "metadata": {},
   "outputs": [
    {
     "name": "stderr",
     "output_type": "stream",
     "text": [
      "100%|████████████████████████████████████████████████████████████████████████████████| 500/500 [00:17<00:00, 29.28it/s]\n"
     ]
    }
   ],
   "source": [
    "X_test_ei=get_embed(X_tei)"
   ]
  },
  {
   "cell_type": "code",
   "execution_count": 37,
   "metadata": {},
   "outputs": [],
   "source": [
    "svm=SVC(kernel='linear')\n",
    "X_tre,X_ve,y_tre,y_ve=train_test_split(X_train_e_a,y_train_aug,test_size=0.033)"
   ]
  },
  {
   "cell_type": "code",
   "execution_count": 38,
   "metadata": {},
   "outputs": [
    {
     "name": "stdout",
     "output_type": "stream",
     "text": [
      "0.7162576687116564\n"
     ]
    }
   ],
   "source": [
    "svm.fit(X_tre,y_tre)\n",
    "y_prev=svm.predict(X_ve)\n",
    "print(accuracy_score(y_ve,y_prev))"
   ]
  },
  {
   "cell_type": "code",
   "execution_count": 39,
   "metadata": {},
   "outputs": [],
   "source": [
    "y_pred3=svm.predict(X_test_ei)\n",
    "y_pred3=enc.inverse_transform(y_pred3)\n",
    "submission['Filename']=test_img\n",
    "submission['Labels']=y_pred3\n",
    "submission.to_csv('5c4d-svm-aug.csv',index=None)"
   ]
  },
  {
   "cell_type": "code",
   "execution_count": 40,
   "metadata": {},
   "outputs": [
    {
     "data": {
      "text/html": [
       "<div>\n",
       "<style scoped>\n",
       "    .dataframe tbody tr th:only-of-type {\n",
       "        vertical-align: middle;\n",
       "    }\n",
       "\n",
       "    .dataframe tbody tr th {\n",
       "        vertical-align: top;\n",
       "    }\n",
       "\n",
       "    .dataframe thead th {\n",
       "        text-align: right;\n",
       "    }\n",
       "</style>\n",
       "<table border=\"1\" class=\"dataframe\">\n",
       "  <thead>\n",
       "    <tr style=\"text-align: right;\">\n",
       "      <th></th>\n",
       "      <th>Filename</th>\n",
       "      <th>Labels</th>\n",
       "    </tr>\n",
       "  </thead>\n",
       "  <tbody>\n",
       "    <tr>\n",
       "      <th>0</th>\n",
       "      <td>000.jpg</td>\n",
       "      <td>red admiral</td>\n",
       "    </tr>\n",
       "    <tr>\n",
       "      <th>1</th>\n",
       "      <td>001.jpg</td>\n",
       "      <td>straited queen</td>\n",
       "    </tr>\n",
       "    <tr>\n",
       "      <th>2</th>\n",
       "      <td>002.jpg</td>\n",
       "      <td>metalmark</td>\n",
       "    </tr>\n",
       "    <tr>\n",
       "      <th>3</th>\n",
       "      <td>003.jpg</td>\n",
       "      <td>pipevine swallow</td>\n",
       "    </tr>\n",
       "    <tr>\n",
       "      <th>4</th>\n",
       "      <td>004.jpg</td>\n",
       "      <td>scarce swallow</td>\n",
       "    </tr>\n",
       "    <tr>\n",
       "      <th>...</th>\n",
       "      <td>...</td>\n",
       "      <td>...</td>\n",
       "    </tr>\n",
       "    <tr>\n",
       "      <th>495</th>\n",
       "      <td>495.jpg</td>\n",
       "      <td>american snoot</td>\n",
       "    </tr>\n",
       "    <tr>\n",
       "      <th>496</th>\n",
       "      <td>496.jpg</td>\n",
       "      <td>red spotted purple</td>\n",
       "    </tr>\n",
       "    <tr>\n",
       "      <th>497</th>\n",
       "      <td>497.jpg</td>\n",
       "      <td>paper kite</td>\n",
       "    </tr>\n",
       "    <tr>\n",
       "      <th>498</th>\n",
       "      <td>498.jpg</td>\n",
       "      <td>pine white</td>\n",
       "    </tr>\n",
       "    <tr>\n",
       "      <th>499</th>\n",
       "      <td>499.jpg</td>\n",
       "      <td>straited queen</td>\n",
       "    </tr>\n",
       "  </tbody>\n",
       "</table>\n",
       "<p>500 rows × 2 columns</p>\n",
       "</div>"
      ],
      "text/plain": [
       "    Filename              Labels\n",
       "0    000.jpg         red admiral\n",
       "1    001.jpg      straited queen\n",
       "2    002.jpg           metalmark\n",
       "3    003.jpg    pipevine swallow\n",
       "4    004.jpg      scarce swallow\n",
       "..       ...                 ...\n",
       "495  495.jpg      american snoot\n",
       "496  496.jpg  red spotted purple\n",
       "497  497.jpg          paper kite\n",
       "498  498.jpg          pine white\n",
       "499  499.jpg      straited queen\n",
       "\n",
       "[500 rows x 2 columns]"
      ]
     },
     "execution_count": 40,
     "metadata": {},
     "output_type": "execute_result"
    }
   ],
   "source": [
    "submission"
   ]
  },
  {
   "cell_type": "markdown",
   "metadata": {},
   "source": [
    "# model 4"
   ]
  },
  {
   "cell_type": "code",
   "execution_count": 41,
   "metadata": {},
   "outputs": [
    {
     "name": "stdout",
     "output_type": "stream",
     "text": [
      "Model: \"sequential_3\"\n",
      "_________________________________________________________________\n",
      "Layer (type)                 Output Shape              Param #   \n",
      "=================================================================\n",
      "conv2d_15 (Conv2D)           (None, 222, 222, 32)      896       \n",
      "_________________________________________________________________\n",
      "conv2d_16 (Conv2D)           (None, 220, 220, 32)      9248      \n",
      "_________________________________________________________________\n",
      "conv2d_17 (Conv2D)           (None, 218, 218, 64)      18496     \n",
      "_________________________________________________________________\n",
      "conv2d_18 (Conv2D)           (None, 216, 216, 64)      36928     \n",
      "_________________________________________________________________\n",
      "max_pooling2d_11 (MaxPooling (None, 108, 108, 64)      0         \n",
      "_________________________________________________________________\n",
      "conv2d_19 (Conv2D)           (None, 106, 106, 128)     73856     \n",
      "_________________________________________________________________\n",
      "conv2d_20 (Conv2D)           (None, 104, 104, 128)     147584    \n",
      "_________________________________________________________________\n",
      "max_pooling2d_12 (MaxPooling (None, 52, 52, 128)       0         \n",
      "_________________________________________________________________\n",
      "batch_normalization_7 (Batch (None, 52, 52, 128)       512       \n",
      "_________________________________________________________________\n",
      "conv2d_21 (Conv2D)           (None, 51, 51, 256)       131328    \n",
      "_________________________________________________________________\n",
      "conv2d_22 (Conv2D)           (None, 50, 50, 256)       262400    \n",
      "_________________________________________________________________\n",
      "max_pooling2d_13 (MaxPooling (None, 25, 25, 256)       0         \n",
      "_________________________________________________________________\n",
      "batch_normalization_8 (Batch (None, 25, 25, 256)       1024      \n",
      "_________________________________________________________________\n",
      "dropout_9 (Dropout)          (None, 25, 25, 256)       0         \n",
      "_________________________________________________________________\n",
      "conv2d_23 (Conv2D)           (None, 24, 24, 512)       524800    \n",
      "_________________________________________________________________\n",
      "conv2d_24 (Conv2D)           (None, 23, 23, 512)       1049088   \n",
      "_________________________________________________________________\n",
      "max_pooling2d_14 (MaxPooling (None, 11, 11, 512)       0         \n",
      "_________________________________________________________________\n",
      "batch_normalization_9 (Batch (None, 11, 11, 512)       2048      \n",
      "_________________________________________________________________\n",
      "dropout_10 (Dropout)         (None, 11, 11, 512)       0         \n",
      "_________________________________________________________________\n",
      "conv2d_25 (Conv2D)           (None, 10, 10, 1024)      2098176   \n",
      "_________________________________________________________________\n",
      "conv2d_26 (Conv2D)           (None, 9, 9, 1024)        4195328   \n",
      "_________________________________________________________________\n",
      "max_pooling2d_15 (MaxPooling (None, 4, 4, 1024)        0         \n",
      "_________________________________________________________________\n",
      "batch_normalization_10 (Batc (None, 4, 4, 1024)        4096      \n",
      "_________________________________________________________________\n",
      "dropout_11 (Dropout)         (None, 4, 4, 1024)        0         \n",
      "_________________________________________________________________\n",
      "flatten_2 (Flatten)          (None, 16384)             0         \n",
      "_________________________________________________________________\n",
      "dense_10 (Dense)             (None, 1024)              16778240  \n",
      "_________________________________________________________________\n",
      "dense_11 (Dense)             (None, 512)               524800    \n",
      "_________________________________________________________________\n",
      "dropout_12 (Dropout)         (None, 512)               0         \n",
      "_________________________________________________________________\n",
      "dense_12 (Dense)             (None, 256)               131328    \n",
      "_________________________________________________________________\n",
      "dropout_13 (Dropout)         (None, 256)               0         \n",
      "_________________________________________________________________\n",
      "dense_13 (Dense)             (None, 128)               32896     \n",
      "_________________________________________________________________\n",
      "dense_14 (Dense)             (None, 50)                6450      \n",
      "=================================================================\n",
      "Total params: 26,029,522\n",
      "Trainable params: 26,025,682\n",
      "Non-trainable params: 3,840\n",
      "_________________________________________________________________\n"
     ]
    }
   ],
   "source": [
    "cnn3 = Sequential()           #cnn structure 2X CMD - 2XCMBD - 5XDense\n",
    "cnn3.add(Conv2D(32, kernel_size=(3, 3), activation='relu', input_shape=(224,224,3)))\n",
    "cnn3.add(Conv2D(32, kernel_size=(3, 3), activation='relu'))\n",
    "\n",
    "\n",
    "cnn3.add(Conv2D(64, kernel_size=(3, 3), activation='relu'))\n",
    "cnn3.add(Conv2D(64, kernel_size=(3, 3), activation='relu'))\n",
    "cnn3.add(MaxPooling2D(pool_size=(2, 2)))\n",
    "\n",
    "\n",
    "cnn3.add(Conv2D(128, kernel_size=(3, 3), activation='relu'))\n",
    "cnn3.add(Conv2D(128, kernel_size=(3, 3), activation='relu'))\n",
    "cnn3.add(MaxPooling2D(pool_size=(2, 2)))\n",
    "cnn3.add(BatchNormalization())\n",
    "\n",
    "\n",
    "cnn3.add(Conv2D(256, kernel_size=(2,2), activation='relu'))\n",
    "cnn3.add(Conv2D(256, kernel_size=(2,2), activation='relu'))\n",
    "cnn3.add(MaxPooling2D(pool_size=(2, 2)))\n",
    "cnn3.add(BatchNormalization())\n",
    "cnn3.add(Dropout(0.2))\n",
    "\n",
    "cnn3.add(Conv2D(512, kernel_size=(2,2), activation='relu'))\n",
    "cnn3.add(Conv2D(512, kernel_size=(2,2), activation='relu'))\n",
    "cnn3.add(MaxPooling2D(pool_size=(2, 2)))\n",
    "cnn3.add(BatchNormalization())\n",
    "cnn3.add(Dropout(0.2))\n",
    "\n",
    "cnn3.add(Conv2D(1024, kernel_size=(2,2), activation='relu'))\n",
    "cnn3.add(Conv2D(1024, kernel_size=(2,2), activation='relu'))\n",
    "cnn3.add(MaxPooling2D(pool_size=(2, 2)))\n",
    "cnn3.add(BatchNormalization())\n",
    "cnn3.add(Dropout(0.2))\n",
    "\n",
    "cnn3.add(Flatten())\n",
    "\n",
    "cnn3.add(Dense(1024, activation='relu'))\n",
    "cnn3.add(Dense(512, activation='relu'))\n",
    "cnn3.add(Dropout(0.33))\n",
    "cnn3.add(Dense(256, activation='relu'))\n",
    "cnn3.add(Dropout(0.33))\n",
    "cnn3.add(Dense(128, activation='relu'))\n",
    "cnn3.add(Dense(50, activation='softmax'))\n",
    "\n",
    "cnn3.compile(loss=keras.losses.categorical_crossentropy,\n",
    "              optimizer=keras.optimizers.Adam(),\n",
    "              metrics=['accuracy'])\n",
    "\n",
    "cnn3.compile(\n",
    "    loss='categorical_crossentropy',\n",
    "    optimizer='SGD',\n",
    "    metrics=['accuracy']\n",
    ")\n",
    "\n",
    "cnn3.summary()"
   ]
  },
  {
   "cell_type": "code",
   "execution_count": null,
   "metadata": {},
   "outputs": [],
   "source": [
    "reduce_lr_loss = ReduceLROnPlateau(monitor='val_loss', factor=0.1, patience=7, verbose=1, epsilon=1e-4, mode='min')\n",
    "early_stopping = EarlyStopping(monitor='val_loss',patience=20,restore_best_weights=True)\n",
    "\n",
    "history1= cnn3.fit(X_train_aug,y_train_augc,validation_data=(X_val,y_valc),callbacks=[reduce_lr_loss,early_stopping],epochs=10)"
   ]
  },
  {
   "cell_type": "markdown",
   "metadata": {},
   "source": [
    "# xception"
   ]
  },
  {
   "cell_type": "code",
   "execution_count": null,
   "metadata": {},
   "outputs": [],
   "source": [
    "from keras.applications import Xception\n",
    "pretrained=Xception(weights='imagenet',include_top=False,input_shape=(224,224,3))\n",
    "for layer in pretrained.layers[:-15]:\n",
    "    layer.trainable=False\n",
    "pretrained.summary()"
   ]
  },
  {
   "cell_type": "code",
   "execution_count": null,
   "metadata": {},
   "outputs": [],
   "source": [
    "cnn4=Sequential()\n",
    "cnn4.add(pretrained)\n",
    "cnn4.add(Flatten())\n",
    "cnn4.add(Dense(units=1024,activation=\"relu\"))\n",
    "cnn4.add(Dropout(0.2))\n",
    "cnn4.add(Dense(units=64,activation='relu'))\n",
    "cnn4.add(Dense(units=50,activation='softmax'))\n",
    "\n",
    "cnn4.compile(optimizer='adam',\n",
    "            loss='categorical_crossentropy',\n",
    "            metrics=['accuracy'])\n",
    "\n",
    "cnn4.summary()"
   ]
  },
  {
   "cell_type": "code",
   "execution_count": null,
   "metadata": {},
   "outputs": [],
   "source": [
    "reduce_lr_loss = ReduceLROnPlateau(monitor='val_loss', factor=0.1, patience=7, verbose=1, epsilon=1e-4, mode='min')\n",
    "early_stopping = EarlyStopping(monitor='val_loss',patience=20,restore_best_weights=True)\n",
    "\n",
    "history1= cnn4.fit(X_train,y_train,validation_data=(X_val,y_val),callbacks=[reduce_lr_loss,early_stopping],epochs=100)"
   ]
  },
  {
   "cell_type": "code",
   "execution_count": null,
   "metadata": {},
   "outputs": [],
   "source": [
    "from numba import cuda \n",
    "device = cuda.get_current_device()\n",
    "device.reset()"
   ]
  },
  {
   "cell_type": "markdown",
   "metadata": {},
   "source": [
    "# model 5 inception"
   ]
  },
  {
   "cell_type": "code",
   "execution_count": null,
   "metadata": {},
   "outputs": [],
   "source": [
    "X_i=[]\n",
    "y_i=[]\n",
    "for i in tqdm(os.listdir('DATA/TRAIN')):\n",
    "    sub_path='DATA/TRAIN/'+i+'/'\n",
    "    for img in os.listdir(sub_path):\n",
    "        img_path=sub_path+img\n",
    "        im=Image.open(img_path)\n",
    "        im=im.convert(\"RGB\")\n",
    "        im=im.resize((92,92))\n",
    "        im=np.asarray(im)\n",
    "        X_i.append(im)\n",
    "        y_i.append(i)\n",
    "X_incep=np.asarray(X)\n",
    "y_incep=np.asarray(y)"
   ]
  },
  {
   "cell_type": "code",
   "execution_count": null,
   "metadata": {},
   "outputs": [],
   "source": [
    "X_test_i=[]\n",
    "\n",
    "for i in tqdm(os.listdir('DATA/TEST2')):\n",
    "    sub_path='DATA/TEST2/'+i+'/'\n",
    "    for img in os.listdir(sub_path):\n",
    "        img_path=sub_path+img\n",
    "        im=Image.open(img_path)\n",
    "        im=im.convert(\"RGB\")\n",
    "        im=im.resize((92,92))\n",
    "        pixels=np.array(im)\n",
    "        X_test_i.append(pixels)\n",
    "X_test_incep=np.asarray(X_test_i)        "
   ]
  },
  {
   "cell_type": "code",
   "execution_count": null,
   "metadata": {},
   "outputs": [],
   "source": [
    "def make_inception(x,n1_in,n1_out,n2_in,n2_out,n3_out,n4_out):\n",
    "    \n",
    "    conv3=Conv2D(filters=n1_in,kernel_size=(1,1),padding='same',kernel_initializer='random_uniform')(x)\n",
    "    conv3=Conv2D(filters=n2_out,kernel_size=(3,3),padding='same',kernel_initializer='random_uniform')(conv3)\n",
    "    \n",
    "    conv5=Conv2D(filters=n2_in,kernel_size=(1,1),padding='same',kernel_initializer='random_uniform')(x)\n",
    "    conv5=Conv2D(filters=n2_out,kernel_size=(5,5),padding='same',kernel_initializer='random_uniform')(conv5)\n",
    "    \n",
    "    #conv7=Conv2D(filters=n3_in,kernel_size=(1,1),padding='same',kernel_initializer='random_uniform')(x)\n",
    "    #conv7=Conv2D(filters=n3_out,kernel_size=(7,7),padding='same',kernel_initializer='random_uniform')(conv7)\n",
    "    \n",
    "    pool=MaxPooling2D((3,3),padding='same',strides=(1,1))(x)\n",
    "    pool=Conv2D(filters=n3_out,kernel_size=(1,1),kernel_initializer='random_uniform')(pool)\n",
    "    \n",
    "    conv1=Conv2D(filters=n4_out,padding='same',kernel_initializer='random_uniform',kernel_size=(1,1))(x)\n",
    "    \n",
    "    out=concatenate([conv3,conv5,conv1,pool],axis=-1)\n",
    "    \n",
    "    return out\n",
    "    \n",
    "    "
   ]
  },
  {
   "cell_type": "code",
   "execution_count": null,
   "metadata": {},
   "outputs": [],
   "source": [
    "inp=Input(shape=(92,92,3))\n",
    "#layer=Conv2D(32,(3,3),activation='relu')\n",
    "layer=make_inception(inp,64,64,64,64,64,64)\n",
    "layer=make_inception(layer,128,128,128,128,128,128)\n",
    "layer=Flatten()(layer)\n",
    "out=Dense(units=50,activation='softmax')(layer)\n",
    "model_incep=Model(inputs=inp,outputs=out)"
   ]
  },
  {
   "cell_type": "code",
   "execution_count": null,
   "metadata": {},
   "outputs": [],
   "source": [
    "model_incep.summary()"
   ]
  },
  {
   "cell_type": "code",
   "execution_count": null,
   "metadata": {},
   "outputs": [],
   "source": [
    "model_incep.compile(optimizer='adam',loss='categorical_crossentropy',metrics=['accuracy'])"
   ]
  },
  {
   "cell_type": "code",
   "execution_count": null,
   "metadata": {},
   "outputs": [],
   "source": [
    "reduce_lr_loss = ReduceLROnPlateau(monitor='val_loss', factor=0.1, patience=7, verbose=1, epsilon=1e-4, mode='min')\n",
    "early_stopping = EarlyStopping(monitor='val_loss',patience=10,restore_best_weights=True)\n",
    "\n",
    "history1= model_incep.fit(X_incep,y_c,validation_split=0.1,callbacks=[reduce_lr_loss,early_stopping],epochs=100)"
   ]
  },
  {
   "cell_type": "markdown",
   "metadata": {},
   "source": [
    "# model 6 resnet"
   ]
  },
  {
   "cell_type": "code",
   "execution_count": 42,
   "metadata": {},
   "outputs": [],
   "source": [
    "def make_res(x,n):\n",
    "    inp=x\n",
    "    if (x.shape[-1]!=n):\n",
    "        inp=Conv2D(filters=n,kernel_size=(1,1),padding='same',kernel_initializer='random_uniform',activation='relu')(x)\n",
    "    conv3=Conv2D(filters=n,kernel_size=(3,3),padding='same',kernel_initializer='random_uniform',activation='relu')(x)\n",
    "    conv3=Conv2D(filters=n,kernel_size=(3,3),padding='same',kernel_initializer='random_uniform',activation='relu')(conv3)\n",
    "    layer=add([inp,conv3])\n",
    "    out=MaxPooling2D(pool_size=(2, 2))(layer)\n",
    "    return out"
   ]
  },
  {
   "cell_type": "code",
   "execution_count": 43,
   "metadata": {},
   "outputs": [
    {
     "name": "stdout",
     "output_type": "stream",
     "text": [
      "Model: \"functional_1\"\n",
      "__________________________________________________________________________________________________\n",
      "Layer (type)                    Output Shape         Param #     Connected to                     \n",
      "==================================================================================================\n",
      "input_1 (InputLayer)            [(None, 224, 224, 3) 0                                            \n",
      "__________________________________________________________________________________________________\n",
      "conv2d_27 (Conv2D)              (None, 222, 222, 32) 896         input_1[0][0]                    \n",
      "__________________________________________________________________________________________________\n",
      "conv2d_28 (Conv2D)              (None, 220, 220, 32) 9248        conv2d_27[0][0]                  \n",
      "__________________________________________________________________________________________________\n",
      "conv2d_30 (Conv2D)              (None, 220, 220, 64) 18496       conv2d_28[0][0]                  \n",
      "__________________________________________________________________________________________________\n",
      "conv2d_29 (Conv2D)              (None, 220, 220, 64) 2112        conv2d_28[0][0]                  \n",
      "__________________________________________________________________________________________________\n",
      "conv2d_31 (Conv2D)              (None, 220, 220, 64) 36928       conv2d_30[0][0]                  \n",
      "__________________________________________________________________________________________________\n",
      "add (Add)                       (None, 220, 220, 64) 0           conv2d_29[0][0]                  \n",
      "                                                                 conv2d_31[0][0]                  \n",
      "__________________________________________________________________________________________________\n",
      "max_pooling2d_16 (MaxPooling2D) (None, 110, 110, 64) 0           add[0][0]                        \n",
      "__________________________________________________________________________________________________\n",
      "conv2d_33 (Conv2D)              (None, 110, 110, 128 73856       max_pooling2d_16[0][0]           \n",
      "__________________________________________________________________________________________________\n",
      "conv2d_32 (Conv2D)              (None, 110, 110, 128 8320        max_pooling2d_16[0][0]           \n",
      "__________________________________________________________________________________________________\n",
      "conv2d_34 (Conv2D)              (None, 110, 110, 128 147584      conv2d_33[0][0]                  \n",
      "__________________________________________________________________________________________________\n",
      "add_1 (Add)                     (None, 110, 110, 128 0           conv2d_32[0][0]                  \n",
      "                                                                 conv2d_34[0][0]                  \n",
      "__________________________________________________________________________________________________\n",
      "max_pooling2d_17 (MaxPooling2D) (None, 55, 55, 128)  0           add_1[0][0]                      \n",
      "__________________________________________________________________________________________________\n",
      "batch_normalization_11 (BatchNo (None, 55, 55, 128)  512         max_pooling2d_17[0][0]           \n",
      "__________________________________________________________________________________________________\n",
      "conv2d_36 (Conv2D)              (None, 55, 55, 256)  295168      batch_normalization_11[0][0]     \n",
      "__________________________________________________________________________________________________\n",
      "conv2d_35 (Conv2D)              (None, 55, 55, 256)  33024       batch_normalization_11[0][0]     \n",
      "__________________________________________________________________________________________________\n",
      "conv2d_37 (Conv2D)              (None, 55, 55, 256)  590080      conv2d_36[0][0]                  \n",
      "__________________________________________________________________________________________________\n",
      "add_2 (Add)                     (None, 55, 55, 256)  0           conv2d_35[0][0]                  \n",
      "                                                                 conv2d_37[0][0]                  \n",
      "__________________________________________________________________________________________________\n",
      "max_pooling2d_18 (MaxPooling2D) (None, 27, 27, 256)  0           add_2[0][0]                      \n",
      "__________________________________________________________________________________________________\n",
      "batch_normalization_12 (BatchNo (None, 27, 27, 256)  1024        max_pooling2d_18[0][0]           \n",
      "__________________________________________________________________________________________________\n",
      "dropout_14 (Dropout)            (None, 27, 27, 256)  0           batch_normalization_12[0][0]     \n",
      "__________________________________________________________________________________________________\n",
      "conv2d_39 (Conv2D)              (None, 27, 27, 512)  1180160     dropout_14[0][0]                 \n",
      "__________________________________________________________________________________________________\n",
      "conv2d_38 (Conv2D)              (None, 27, 27, 512)  131584      dropout_14[0][0]                 \n",
      "__________________________________________________________________________________________________\n",
      "conv2d_40 (Conv2D)              (None, 27, 27, 512)  2359808     conv2d_39[0][0]                  \n",
      "__________________________________________________________________________________________________\n",
      "add_3 (Add)                     (None, 27, 27, 512)  0           conv2d_38[0][0]                  \n",
      "                                                                 conv2d_40[0][0]                  \n",
      "__________________________________________________________________________________________________\n",
      "max_pooling2d_19 (MaxPooling2D) (None, 13, 13, 512)  0           add_3[0][0]                      \n",
      "__________________________________________________________________________________________________\n",
      "batch_normalization_13 (BatchNo (None, 13, 13, 512)  2048        max_pooling2d_19[0][0]           \n",
      "__________________________________________________________________________________________________\n",
      "dropout_15 (Dropout)            (None, 13, 13, 512)  0           batch_normalization_13[0][0]     \n",
      "__________________________________________________________________________________________________\n",
      "conv2d_42 (Conv2D)              (None, 13, 13, 1024) 4719616     dropout_15[0][0]                 \n",
      "__________________________________________________________________________________________________\n",
      "conv2d_41 (Conv2D)              (None, 13, 13, 1024) 525312      dropout_15[0][0]                 \n",
      "__________________________________________________________________________________________________\n",
      "conv2d_43 (Conv2D)              (None, 13, 13, 1024) 9438208     conv2d_42[0][0]                  \n",
      "__________________________________________________________________________________________________\n",
      "add_4 (Add)                     (None, 13, 13, 1024) 0           conv2d_41[0][0]                  \n",
      "                                                                 conv2d_43[0][0]                  \n",
      "__________________________________________________________________________________________________\n",
      "max_pooling2d_20 (MaxPooling2D) (None, 6, 6, 1024)   0           add_4[0][0]                      \n",
      "__________________________________________________________________________________________________\n",
      "batch_normalization_14 (BatchNo (None, 6, 6, 1024)   4096        max_pooling2d_20[0][0]           \n",
      "__________________________________________________________________________________________________\n",
      "dropout_16 (Dropout)            (None, 6, 6, 1024)   0           batch_normalization_14[0][0]     \n",
      "__________________________________________________________________________________________________\n",
      "flatten_3 (Flatten)             (None, 36864)        0           dropout_16[0][0]                 \n",
      "__________________________________________________________________________________________________\n",
      "dense_15 (Dense)                (None, 1024)         37749760    flatten_3[0][0]                  \n",
      "__________________________________________________________________________________________________\n",
      "dense_16 (Dense)                (None, 512)          524800      dense_15[0][0]                   \n",
      "__________________________________________________________________________________________________\n",
      "dropout_17 (Dropout)            (None, 512)          0           dense_16[0][0]                   \n",
      "__________________________________________________________________________________________________\n",
      "dense_17 (Dense)                (None, 256)          131328      dropout_17[0][0]                 \n",
      "__________________________________________________________________________________________________\n",
      "dropout_18 (Dropout)            (None, 256)          0           dense_17[0][0]                   \n",
      "__________________________________________________________________________________________________\n",
      "dense_18 (Dense)                (None, 128)          32896       dropout_18[0][0]                 \n",
      "__________________________________________________________________________________________________\n",
      "dense_19 (Dense)                (None, 50)           6450        dense_18[0][0]                   \n",
      "==================================================================================================\n",
      "Total params: 58,023,314\n",
      "Trainable params: 58,019,474\n",
      "Non-trainable params: 3,840\n",
      "__________________________________________________________________________________________________\n"
     ]
    }
   ],
   "source": [
    "inp = Input(shape=(224,224,3))           #cnn structure 2X CMD - 2XCMBD - 5XDense\n",
    "layer=Conv2D(32, kernel_size=(3, 3), activation='relu')(inp)\n",
    "layer=Conv2D(32, kernel_size=(3, 3), activation='relu')(layer)\n",
    "\n",
    "\n",
    "layer=make_res(layer,64)\n",
    "\n",
    "\n",
    "layer=make_res(layer,128)\n",
    "layer=BatchNormalization()(layer)\n",
    "\n",
    "\n",
    "layer=make_res(layer,256)\n",
    "layer=BatchNormalization()(layer)\n",
    "layer=Dropout(0.2)(layer)\n",
    "\n",
    "layer=make_res(layer,512)\n",
    "layer=BatchNormalization()(layer)\n",
    "layer=Dropout(0.2)(layer)\n",
    "\n",
    "\n",
    "layer=make_res(layer,1024)\n",
    "layer=BatchNormalization()(layer)\n",
    "layer=Dropout(0.2)(layer)\n",
    "\n",
    "layer=Flatten()(layer)\n",
    "\n",
    "layer=Dense(1024, activation='relu')(layer)\n",
    "layer=Dense(512, activation='relu')(layer)\n",
    "layer=Dropout(0.33)(layer)\n",
    "layer=Dense(256, activation='relu')(layer)\n",
    "layer=Dropout(0.33)(layer)\n",
    "layer=Dense(128, activation='relu')(layer)\n",
    "layer=Dense(50, activation='softmax')(layer)\n",
    "\n",
    "res_model=Model(inputs=inp,outputs=layer)\n",
    "\n",
    "res_model.compile(loss=keras.losses.categorical_crossentropy,\n",
    "              optimizer=keras.optimizers.SGD(),\n",
    "              metrics=['accuracy'])\n",
    "\n",
    "\n",
    "res_model.summary()"
   ]
  },
  {
   "cell_type": "code",
   "execution_count": 45,
   "metadata": {},
   "outputs": [
    {
     "name": "stdout",
     "output_type": "stream",
     "text": [
      "WARNING:tensorflow:`epsilon` argument is deprecated and will be removed, use `min_delta` instead.\n",
      "Epoch 1/3\n",
      "618/618 [==============================] - 228s 369ms/step - loss: 3.6382 - accuracy: 0.0749 - val_loss: 3.3256 - val_accuracy: 0.0968\n",
      "Epoch 2/3\n",
      "618/618 [==============================] - 228s 369ms/step - loss: 3.1080 - accuracy: 0.1471 - val_loss: 4.2779 - val_accuracy: 0.0653\n",
      "Epoch 3/3\n",
      "618/618 [==============================] - 229s 370ms/step - loss: 2.6758 - accuracy: 0.2292 - val_loss: 2.3891 - val_accuracy: 0.3018\n"
     ]
    }
   ],
   "source": [
    "reduce_lr_loss = ReduceLROnPlateau(monitor='val_loss', factor=0.1, patience=7, verbose=1, epsilon=1e-4, mode='min')\n",
    "early_stopping = EarlyStopping(monitor='val_loss',patience=10,restore_best_weights=True)\n",
    "\n",
    "history1= res_model.fit(X_train_aug,y_train_augc,validation_data=(X_val,y_valc),callbacks=[reduce_lr_loss],epochs=3)"
   ]
  },
  {
   "cell_type": "code",
   "execution_count": 46,
   "metadata": {},
   "outputs": [],
   "source": [
    "submission=pd.DataFrame(columns=['Filename','Labels'])\n",
    "y_pred4=res_model.predict(X_test)\n",
    "y_pred4=np.argmax(y_pred4,axis=1)\n",
    "y_pred4=enc.inverse_transform(y_pred4)\n",
    "submission['Filename']=test_img\n",
    "submission['Labels']=y_pred4\n",
    "submission.to_csv('diy-resnet-aug.csv',index=None)"
   ]
  },
  {
   "cell_type": "code",
   "execution_count": 47,
   "metadata": {},
   "outputs": [
    {
     "name": "stdout",
     "output_type": "stream",
     "text": [
      "(444, 50)\n",
      "0.30180180180180183\n"
     ]
    }
   ],
   "source": [
    "y_predv=res_model.predict(X_val)\n",
    "print(y_predv.shape)\n",
    "y_predv=np.argmax(y_predv,axis=1)\n",
    "print(accuracy_score(y_val,y_predv))"
   ]
  },
  {
   "cell_type": "markdown",
   "metadata": {},
   "source": [
    "# resnet 2 "
   ]
  },
  {
   "cell_type": "code",
   "execution_count": 51,
   "metadata": {},
   "outputs": [],
   "source": [
    "def res_block(X,f):\n",
    "    f1,f2,f3=f\n",
    "    X_skip=X\n",
    "    \n",
    "    X=Conv2D(f1,(1,1),padding='valid')(X)\n",
    "    X=BatchNormalization(axis=3)(X)\n",
    "    X=Activation('relu')(X)\n",
    "    \n",
    "    X=Conv2D(f2,(3,3),padding='same')(X)\n",
    "    X=BatchNormalization(axis=3)(X)\n",
    "    X=Activation('relu')(X)\n",
    "    \n",
    "    X=Conv2D(f3,(1,1),padding='valid')(X)\n",
    "    X=BatchNormalization(axis=3)(X)\n",
    "\n",
    "    \n",
    "    X_skip=Conv2D(f3,(1,1),padding='valid')(X_skip)\n",
    "    X_skip=BatchNormalization(axis=3)(X_skip)\n",
    "    \n",
    "    X=add([X_skip,X])\n",
    "    X=Activation('relu')(X)\n",
    "    \n",
    "    \n",
    "    return X    "
   ]
  },
  {
   "cell_type": "code",
   "execution_count": 52,
   "metadata": {},
   "outputs": [],
   "source": [
    "def conv_block(X,f,s):\n",
    "    f1,f2,f3=f\n",
    "    X_skip=X\n",
    "    \n",
    "    X=Conv2D(f1,(1,1),padding='valid',strides=(s,s))(X)\n",
    "    X=BatchNormalization(axis=3)(X)\n",
    "    X=Activation('relu')(X)\n",
    "    \n",
    "    X=Conv2D(f2,(3,3),padding='same')(X)\n",
    "    X=BatchNormalization(axis=3)(X)\n",
    "    X=Activation('relu')(X)\n",
    "    \n",
    "    X=Conv2D(f3,(1,1),padding='valid')(X)\n",
    "    X=BatchNormalization(axis=3)(X)\n",
    "\n",
    "    \n",
    "    X_skip=Conv2D(f3,(1,1),padding='valid',strides=(s,s))(X_skip)\n",
    "    X_skip=BatchNormalization(axis=3)(X_skip)\n",
    "    \n",
    "    X=add([X_skip,X])\n",
    "    X=Activation('relu')(X)\n",
    "    \n",
    "    \n",
    "    return X    "
   ]
  },
  {
   "cell_type": "code",
   "execution_count": 53,
   "metadata": {},
   "outputs": [],
   "source": [
    "def model_res(input_shape=(224,224,3),classes=50):\n",
    "    X_inp=Input(input_shape)\n",
    "    \n",
    "    X=ZeroPadding2D((3,3))(X_inp)\n",
    "    \n",
    "    X=Conv2D(64,(7,7),strides=(2,2))(X)\n",
    "    X=BatchNormalization(axis=3)(X)\n",
    "    X=Activation('relu')(X)\n",
    "    X=MaxPooling2D((3,3),strides=(2,2))(X)\n",
    "    \n",
    "    X=conv_block(X,[64,64,256],1)\n",
    "    X=res_block(X,[64,64,256])\n",
    "    X=res_block(X,[64,64,256])\n",
    "    \n",
    "    X=conv_block(X,[128,128,512],2)\n",
    "    X=res_block(X,[128,128,512])\n",
    "    X=res_block(X,[128,128,512])\n",
    "    X=res_block(X,[128,128,512])\n",
    "    \n",
    "    X=conv_block(X,[256,256,1024],2)\n",
    "    X=res_block(X,[256,256,1024])\n",
    "    X=res_block(X,[256,256,1024])\n",
    "    X=res_block(X,[256,256,1024])\n",
    "    X=res_block(X,[256,256,1024])\n",
    "    X=res_block(X,[256,256,1024])\n",
    "    \n",
    "    X=conv_block(X,[512,512,2048],2)\n",
    "    X=res_block(X,[512,512,2048])\n",
    "    X=res_block(X,[512,512,2048])\n",
    "    \n",
    "    X=conv_block(X,[512,512,2048],2)\n",
    "    X=res_block(X,[512,512,2048])\n",
    "    X=res_block(X,[512,512,2048])\n",
    "    \n",
    "    X=AveragePooling2D(pool_size=(2,2),padding='same')(X)\n",
    "    \n",
    "    X=Flatten()(X)\n",
    "    X=Dropout(0.2)(X)\n",
    "    X=Dense(units=512,activation='relu')(X)\n",
    "    X=Dropout(0.2)(X)\n",
    "    X=Dense(units=classes,activation='softmax')(X)\n",
    "    \n",
    "    model=Model(inputs=X_inp,outputs=X,name='diyres')\n",
    "    \n",
    "    return model\n",
    "    \n",
    "    \n",
    "    \n",
    "    "
   ]
  },
  {
   "cell_type": "code",
   "execution_count": 54,
   "metadata": {},
   "outputs": [],
   "source": [
    "res_model3=model_res()\n",
    "\n",
    "res_model3.compile(loss=keras.losses.categorical_crossentropy,\n",
    "              optimizer=keras.optimizers.SGD(),\n",
    "              metrics=['accuracy'])"
   ]
  },
  {
   "cell_type": "code",
   "execution_count": 55,
   "metadata": {},
   "outputs": [
    {
     "name": "stdout",
     "output_type": "stream",
     "text": [
      "Model: \"diyres\"\n",
      "__________________________________________________________________________________________________\n",
      "Layer (type)                    Output Shape         Param #     Connected to                     \n",
      "==================================================================================================\n",
      "input_2 (InputLayer)            [(None, 224, 224, 3) 0                                            \n",
      "__________________________________________________________________________________________________\n",
      "zero_padding2d (ZeroPadding2D)  (None, 230, 230, 3)  0           input_2[0][0]                    \n",
      "__________________________________________________________________________________________________\n",
      "conv2d_44 (Conv2D)              (None, 112, 112, 64) 9472        zero_padding2d[0][0]             \n",
      "__________________________________________________________________________________________________\n",
      "batch_normalization_15 (BatchNo (None, 112, 112, 64) 256         conv2d_44[0][0]                  \n",
      "__________________________________________________________________________________________________\n",
      "activation (Activation)         (None, 112, 112, 64) 0           batch_normalization_15[0][0]     \n",
      "__________________________________________________________________________________________________\n",
      "max_pooling2d_21 (MaxPooling2D) (None, 55, 55, 64)   0           activation[0][0]                 \n",
      "__________________________________________________________________________________________________\n",
      "conv2d_45 (Conv2D)              (None, 55, 55, 64)   4160        max_pooling2d_21[0][0]           \n",
      "__________________________________________________________________________________________________\n",
      "batch_normalization_16 (BatchNo (None, 55, 55, 64)   256         conv2d_45[0][0]                  \n",
      "__________________________________________________________________________________________________\n",
      "activation_1 (Activation)       (None, 55, 55, 64)   0           batch_normalization_16[0][0]     \n",
      "__________________________________________________________________________________________________\n",
      "conv2d_46 (Conv2D)              (None, 55, 55, 64)   36928       activation_1[0][0]               \n",
      "__________________________________________________________________________________________________\n",
      "batch_normalization_17 (BatchNo (None, 55, 55, 64)   256         conv2d_46[0][0]                  \n",
      "__________________________________________________________________________________________________\n",
      "activation_2 (Activation)       (None, 55, 55, 64)   0           batch_normalization_17[0][0]     \n",
      "__________________________________________________________________________________________________\n",
      "conv2d_48 (Conv2D)              (None, 55, 55, 256)  16640       max_pooling2d_21[0][0]           \n",
      "__________________________________________________________________________________________________\n",
      "conv2d_47 (Conv2D)              (None, 55, 55, 256)  16640       activation_2[0][0]               \n",
      "__________________________________________________________________________________________________\n",
      "batch_normalization_19 (BatchNo (None, 55, 55, 256)  1024        conv2d_48[0][0]                  \n",
      "__________________________________________________________________________________________________\n",
      "batch_normalization_18 (BatchNo (None, 55, 55, 256)  1024        conv2d_47[0][0]                  \n",
      "__________________________________________________________________________________________________\n",
      "add_5 (Add)                     (None, 55, 55, 256)  0           batch_normalization_19[0][0]     \n",
      "                                                                 batch_normalization_18[0][0]     \n",
      "__________________________________________________________________________________________________\n",
      "activation_3 (Activation)       (None, 55, 55, 256)  0           add_5[0][0]                      \n",
      "__________________________________________________________________________________________________\n",
      "conv2d_49 (Conv2D)              (None, 55, 55, 64)   16448       activation_3[0][0]               \n",
      "__________________________________________________________________________________________________\n",
      "batch_normalization_20 (BatchNo (None, 55, 55, 64)   256         conv2d_49[0][0]                  \n",
      "__________________________________________________________________________________________________\n",
      "activation_4 (Activation)       (None, 55, 55, 64)   0           batch_normalization_20[0][0]     \n",
      "__________________________________________________________________________________________________\n",
      "conv2d_50 (Conv2D)              (None, 55, 55, 64)   36928       activation_4[0][0]               \n",
      "__________________________________________________________________________________________________\n",
      "batch_normalization_21 (BatchNo (None, 55, 55, 64)   256         conv2d_50[0][0]                  \n",
      "__________________________________________________________________________________________________\n",
      "activation_5 (Activation)       (None, 55, 55, 64)   0           batch_normalization_21[0][0]     \n",
      "__________________________________________________________________________________________________\n",
      "conv2d_52 (Conv2D)              (None, 55, 55, 256)  65792       activation_3[0][0]               \n",
      "__________________________________________________________________________________________________\n",
      "conv2d_51 (Conv2D)              (None, 55, 55, 256)  16640       activation_5[0][0]               \n",
      "__________________________________________________________________________________________________\n",
      "batch_normalization_23 (BatchNo (None, 55, 55, 256)  1024        conv2d_52[0][0]                  \n",
      "__________________________________________________________________________________________________\n",
      "batch_normalization_22 (BatchNo (None, 55, 55, 256)  1024        conv2d_51[0][0]                  \n",
      "__________________________________________________________________________________________________\n",
      "add_6 (Add)                     (None, 55, 55, 256)  0           batch_normalization_23[0][0]     \n",
      "                                                                 batch_normalization_22[0][0]     \n",
      "__________________________________________________________________________________________________\n",
      "activation_6 (Activation)       (None, 55, 55, 256)  0           add_6[0][0]                      \n",
      "__________________________________________________________________________________________________\n",
      "conv2d_53 (Conv2D)              (None, 55, 55, 64)   16448       activation_6[0][0]               \n",
      "__________________________________________________________________________________________________\n",
      "batch_normalization_24 (BatchNo (None, 55, 55, 64)   256         conv2d_53[0][0]                  \n",
      "__________________________________________________________________________________________________\n",
      "activation_7 (Activation)       (None, 55, 55, 64)   0           batch_normalization_24[0][0]     \n",
      "__________________________________________________________________________________________________\n",
      "conv2d_54 (Conv2D)              (None, 55, 55, 64)   36928       activation_7[0][0]               \n",
      "__________________________________________________________________________________________________\n",
      "batch_normalization_25 (BatchNo (None, 55, 55, 64)   256         conv2d_54[0][0]                  \n",
      "__________________________________________________________________________________________________\n",
      "activation_8 (Activation)       (None, 55, 55, 64)   0           batch_normalization_25[0][0]     \n",
      "__________________________________________________________________________________________________\n",
      "conv2d_56 (Conv2D)              (None, 55, 55, 256)  65792       activation_6[0][0]               \n",
      "__________________________________________________________________________________________________\n",
      "conv2d_55 (Conv2D)              (None, 55, 55, 256)  16640       activation_8[0][0]               \n",
      "__________________________________________________________________________________________________\n",
      "batch_normalization_27 (BatchNo (None, 55, 55, 256)  1024        conv2d_56[0][0]                  \n",
      "__________________________________________________________________________________________________\n",
      "batch_normalization_26 (BatchNo (None, 55, 55, 256)  1024        conv2d_55[0][0]                  \n",
      "__________________________________________________________________________________________________\n",
      "add_7 (Add)                     (None, 55, 55, 256)  0           batch_normalization_27[0][0]     \n",
      "                                                                 batch_normalization_26[0][0]     \n",
      "__________________________________________________________________________________________________\n",
      "activation_9 (Activation)       (None, 55, 55, 256)  0           add_7[0][0]                      \n",
      "__________________________________________________________________________________________________\n",
      "conv2d_57 (Conv2D)              (None, 28, 28, 128)  32896       activation_9[0][0]               \n",
      "__________________________________________________________________________________________________\n",
      "batch_normalization_28 (BatchNo (None, 28, 28, 128)  512         conv2d_57[0][0]                  \n",
      "__________________________________________________________________________________________________\n",
      "activation_10 (Activation)      (None, 28, 28, 128)  0           batch_normalization_28[0][0]     \n",
      "__________________________________________________________________________________________________\n",
      "conv2d_58 (Conv2D)              (None, 28, 28, 128)  147584      activation_10[0][0]              \n",
      "__________________________________________________________________________________________________\n",
      "batch_normalization_29 (BatchNo (None, 28, 28, 128)  512         conv2d_58[0][0]                  \n",
      "__________________________________________________________________________________________________\n",
      "activation_11 (Activation)      (None, 28, 28, 128)  0           batch_normalization_29[0][0]     \n",
      "__________________________________________________________________________________________________\n",
      "conv2d_60 (Conv2D)              (None, 28, 28, 512)  131584      activation_9[0][0]               \n",
      "__________________________________________________________________________________________________\n",
      "conv2d_59 (Conv2D)              (None, 28, 28, 512)  66048       activation_11[0][0]              \n",
      "__________________________________________________________________________________________________\n",
      "batch_normalization_31 (BatchNo (None, 28, 28, 512)  2048        conv2d_60[0][0]                  \n",
      "__________________________________________________________________________________________________\n",
      "batch_normalization_30 (BatchNo (None, 28, 28, 512)  2048        conv2d_59[0][0]                  \n",
      "__________________________________________________________________________________________________\n",
      "add_8 (Add)                     (None, 28, 28, 512)  0           batch_normalization_31[0][0]     \n",
      "                                                                 batch_normalization_30[0][0]     \n",
      "__________________________________________________________________________________________________\n",
      "activation_12 (Activation)      (None, 28, 28, 512)  0           add_8[0][0]                      \n",
      "__________________________________________________________________________________________________\n",
      "conv2d_61 (Conv2D)              (None, 28, 28, 128)  65664       activation_12[0][0]              \n",
      "__________________________________________________________________________________________________\n",
      "batch_normalization_32 (BatchNo (None, 28, 28, 128)  512         conv2d_61[0][0]                  \n",
      "__________________________________________________________________________________________________\n",
      "activation_13 (Activation)      (None, 28, 28, 128)  0           batch_normalization_32[0][0]     \n",
      "__________________________________________________________________________________________________\n",
      "conv2d_62 (Conv2D)              (None, 28, 28, 128)  147584      activation_13[0][0]              \n",
      "__________________________________________________________________________________________________\n",
      "batch_normalization_33 (BatchNo (None, 28, 28, 128)  512         conv2d_62[0][0]                  \n",
      "__________________________________________________________________________________________________\n",
      "activation_14 (Activation)      (None, 28, 28, 128)  0           batch_normalization_33[0][0]     \n",
      "__________________________________________________________________________________________________\n",
      "conv2d_64 (Conv2D)              (None, 28, 28, 512)  262656      activation_12[0][0]              \n",
      "__________________________________________________________________________________________________\n",
      "conv2d_63 (Conv2D)              (None, 28, 28, 512)  66048       activation_14[0][0]              \n",
      "__________________________________________________________________________________________________\n",
      "batch_normalization_35 (BatchNo (None, 28, 28, 512)  2048        conv2d_64[0][0]                  \n",
      "__________________________________________________________________________________________________\n",
      "batch_normalization_34 (BatchNo (None, 28, 28, 512)  2048        conv2d_63[0][0]                  \n",
      "__________________________________________________________________________________________________\n",
      "add_9 (Add)                     (None, 28, 28, 512)  0           batch_normalization_35[0][0]     \n",
      "                                                                 batch_normalization_34[0][0]     \n",
      "__________________________________________________________________________________________________\n",
      "activation_15 (Activation)      (None, 28, 28, 512)  0           add_9[0][0]                      \n",
      "__________________________________________________________________________________________________\n",
      "conv2d_65 (Conv2D)              (None, 28, 28, 128)  65664       activation_15[0][0]              \n",
      "__________________________________________________________________________________________________\n",
      "batch_normalization_36 (BatchNo (None, 28, 28, 128)  512         conv2d_65[0][0]                  \n",
      "__________________________________________________________________________________________________\n",
      "activation_16 (Activation)      (None, 28, 28, 128)  0           batch_normalization_36[0][0]     \n",
      "__________________________________________________________________________________________________\n",
      "conv2d_66 (Conv2D)              (None, 28, 28, 128)  147584      activation_16[0][0]              \n",
      "__________________________________________________________________________________________________\n",
      "batch_normalization_37 (BatchNo (None, 28, 28, 128)  512         conv2d_66[0][0]                  \n",
      "__________________________________________________________________________________________________\n",
      "activation_17 (Activation)      (None, 28, 28, 128)  0           batch_normalization_37[0][0]     \n",
      "__________________________________________________________________________________________________\n",
      "conv2d_68 (Conv2D)              (None, 28, 28, 512)  262656      activation_15[0][0]              \n",
      "__________________________________________________________________________________________________\n",
      "conv2d_67 (Conv2D)              (None, 28, 28, 512)  66048       activation_17[0][0]              \n",
      "__________________________________________________________________________________________________\n",
      "batch_normalization_39 (BatchNo (None, 28, 28, 512)  2048        conv2d_68[0][0]                  \n",
      "__________________________________________________________________________________________________\n",
      "batch_normalization_38 (BatchNo (None, 28, 28, 512)  2048        conv2d_67[0][0]                  \n",
      "__________________________________________________________________________________________________\n",
      "add_10 (Add)                    (None, 28, 28, 512)  0           batch_normalization_39[0][0]     \n",
      "                                                                 batch_normalization_38[0][0]     \n",
      "__________________________________________________________________________________________________\n",
      "activation_18 (Activation)      (None, 28, 28, 512)  0           add_10[0][0]                     \n",
      "__________________________________________________________________________________________________\n",
      "conv2d_69 (Conv2D)              (None, 28, 28, 128)  65664       activation_18[0][0]              \n",
      "__________________________________________________________________________________________________\n",
      "batch_normalization_40 (BatchNo (None, 28, 28, 128)  512         conv2d_69[0][0]                  \n",
      "__________________________________________________________________________________________________\n",
      "activation_19 (Activation)      (None, 28, 28, 128)  0           batch_normalization_40[0][0]     \n",
      "__________________________________________________________________________________________________\n",
      "conv2d_70 (Conv2D)              (None, 28, 28, 128)  147584      activation_19[0][0]              \n",
      "__________________________________________________________________________________________________\n",
      "batch_normalization_41 (BatchNo (None, 28, 28, 128)  512         conv2d_70[0][0]                  \n",
      "__________________________________________________________________________________________________\n",
      "activation_20 (Activation)      (None, 28, 28, 128)  0           batch_normalization_41[0][0]     \n",
      "__________________________________________________________________________________________________\n",
      "conv2d_72 (Conv2D)              (None, 28, 28, 512)  262656      activation_18[0][0]              \n",
      "__________________________________________________________________________________________________\n",
      "conv2d_71 (Conv2D)              (None, 28, 28, 512)  66048       activation_20[0][0]              \n",
      "__________________________________________________________________________________________________\n",
      "batch_normalization_43 (BatchNo (None, 28, 28, 512)  2048        conv2d_72[0][0]                  \n",
      "__________________________________________________________________________________________________\n",
      "batch_normalization_42 (BatchNo (None, 28, 28, 512)  2048        conv2d_71[0][0]                  \n",
      "__________________________________________________________________________________________________\n",
      "add_11 (Add)                    (None, 28, 28, 512)  0           batch_normalization_43[0][0]     \n",
      "                                                                 batch_normalization_42[0][0]     \n",
      "__________________________________________________________________________________________________\n",
      "activation_21 (Activation)      (None, 28, 28, 512)  0           add_11[0][0]                     \n",
      "__________________________________________________________________________________________________\n",
      "conv2d_73 (Conv2D)              (None, 14, 14, 256)  131328      activation_21[0][0]              \n",
      "__________________________________________________________________________________________________\n",
      "batch_normalization_44 (BatchNo (None, 14, 14, 256)  1024        conv2d_73[0][0]                  \n",
      "__________________________________________________________________________________________________\n",
      "activation_22 (Activation)      (None, 14, 14, 256)  0           batch_normalization_44[0][0]     \n",
      "__________________________________________________________________________________________________\n",
      "conv2d_74 (Conv2D)              (None, 14, 14, 256)  590080      activation_22[0][0]              \n",
      "__________________________________________________________________________________________________\n",
      "batch_normalization_45 (BatchNo (None, 14, 14, 256)  1024        conv2d_74[0][0]                  \n",
      "__________________________________________________________________________________________________\n",
      "activation_23 (Activation)      (None, 14, 14, 256)  0           batch_normalization_45[0][0]     \n",
      "__________________________________________________________________________________________________\n",
      "conv2d_76 (Conv2D)              (None, 14, 14, 1024) 525312      activation_21[0][0]              \n",
      "__________________________________________________________________________________________________\n",
      "conv2d_75 (Conv2D)              (None, 14, 14, 1024) 263168      activation_23[0][0]              \n",
      "__________________________________________________________________________________________________\n",
      "batch_normalization_47 (BatchNo (None, 14, 14, 1024) 4096        conv2d_76[0][0]                  \n",
      "__________________________________________________________________________________________________\n",
      "batch_normalization_46 (BatchNo (None, 14, 14, 1024) 4096        conv2d_75[0][0]                  \n",
      "__________________________________________________________________________________________________\n",
      "add_12 (Add)                    (None, 14, 14, 1024) 0           batch_normalization_47[0][0]     \n",
      "                                                                 batch_normalization_46[0][0]     \n",
      "__________________________________________________________________________________________________\n",
      "activation_24 (Activation)      (None, 14, 14, 1024) 0           add_12[0][0]                     \n",
      "__________________________________________________________________________________________________\n",
      "conv2d_77 (Conv2D)              (None, 14, 14, 256)  262400      activation_24[0][0]              \n",
      "__________________________________________________________________________________________________\n",
      "batch_normalization_48 (BatchNo (None, 14, 14, 256)  1024        conv2d_77[0][0]                  \n",
      "__________________________________________________________________________________________________\n",
      "activation_25 (Activation)      (None, 14, 14, 256)  0           batch_normalization_48[0][0]     \n",
      "__________________________________________________________________________________________________\n",
      "conv2d_78 (Conv2D)              (None, 14, 14, 256)  590080      activation_25[0][0]              \n",
      "__________________________________________________________________________________________________\n",
      "batch_normalization_49 (BatchNo (None, 14, 14, 256)  1024        conv2d_78[0][0]                  \n",
      "__________________________________________________________________________________________________\n",
      "activation_26 (Activation)      (None, 14, 14, 256)  0           batch_normalization_49[0][0]     \n",
      "__________________________________________________________________________________________________\n",
      "conv2d_80 (Conv2D)              (None, 14, 14, 1024) 1049600     activation_24[0][0]              \n",
      "__________________________________________________________________________________________________\n",
      "conv2d_79 (Conv2D)              (None, 14, 14, 1024) 263168      activation_26[0][0]              \n",
      "__________________________________________________________________________________________________\n",
      "batch_normalization_51 (BatchNo (None, 14, 14, 1024) 4096        conv2d_80[0][0]                  \n",
      "__________________________________________________________________________________________________\n",
      "batch_normalization_50 (BatchNo (None, 14, 14, 1024) 4096        conv2d_79[0][0]                  \n",
      "__________________________________________________________________________________________________\n",
      "add_13 (Add)                    (None, 14, 14, 1024) 0           batch_normalization_51[0][0]     \n",
      "                                                                 batch_normalization_50[0][0]     \n",
      "__________________________________________________________________________________________________\n",
      "activation_27 (Activation)      (None, 14, 14, 1024) 0           add_13[0][0]                     \n",
      "__________________________________________________________________________________________________\n",
      "conv2d_81 (Conv2D)              (None, 14, 14, 256)  262400      activation_27[0][0]              \n",
      "__________________________________________________________________________________________________\n",
      "batch_normalization_52 (BatchNo (None, 14, 14, 256)  1024        conv2d_81[0][0]                  \n",
      "__________________________________________________________________________________________________\n",
      "activation_28 (Activation)      (None, 14, 14, 256)  0           batch_normalization_52[0][0]     \n",
      "__________________________________________________________________________________________________\n",
      "conv2d_82 (Conv2D)              (None, 14, 14, 256)  590080      activation_28[0][0]              \n",
      "__________________________________________________________________________________________________\n",
      "batch_normalization_53 (BatchNo (None, 14, 14, 256)  1024        conv2d_82[0][0]                  \n",
      "__________________________________________________________________________________________________\n",
      "activation_29 (Activation)      (None, 14, 14, 256)  0           batch_normalization_53[0][0]     \n",
      "__________________________________________________________________________________________________\n",
      "conv2d_84 (Conv2D)              (None, 14, 14, 1024) 1049600     activation_27[0][0]              \n",
      "__________________________________________________________________________________________________\n",
      "conv2d_83 (Conv2D)              (None, 14, 14, 1024) 263168      activation_29[0][0]              \n",
      "__________________________________________________________________________________________________\n",
      "batch_normalization_55 (BatchNo (None, 14, 14, 1024) 4096        conv2d_84[0][0]                  \n",
      "__________________________________________________________________________________________________\n",
      "batch_normalization_54 (BatchNo (None, 14, 14, 1024) 4096        conv2d_83[0][0]                  \n",
      "__________________________________________________________________________________________________\n",
      "add_14 (Add)                    (None, 14, 14, 1024) 0           batch_normalization_55[0][0]     \n",
      "                                                                 batch_normalization_54[0][0]     \n",
      "__________________________________________________________________________________________________\n",
      "activation_30 (Activation)      (None, 14, 14, 1024) 0           add_14[0][0]                     \n",
      "__________________________________________________________________________________________________\n",
      "conv2d_85 (Conv2D)              (None, 14, 14, 256)  262400      activation_30[0][0]              \n",
      "__________________________________________________________________________________________________\n",
      "batch_normalization_56 (BatchNo (None, 14, 14, 256)  1024        conv2d_85[0][0]                  \n",
      "__________________________________________________________________________________________________\n",
      "activation_31 (Activation)      (None, 14, 14, 256)  0           batch_normalization_56[0][0]     \n",
      "__________________________________________________________________________________________________\n",
      "conv2d_86 (Conv2D)              (None, 14, 14, 256)  590080      activation_31[0][0]              \n",
      "__________________________________________________________________________________________________\n",
      "batch_normalization_57 (BatchNo (None, 14, 14, 256)  1024        conv2d_86[0][0]                  \n",
      "__________________________________________________________________________________________________\n",
      "activation_32 (Activation)      (None, 14, 14, 256)  0           batch_normalization_57[0][0]     \n",
      "__________________________________________________________________________________________________\n",
      "conv2d_88 (Conv2D)              (None, 14, 14, 1024) 1049600     activation_30[0][0]              \n",
      "__________________________________________________________________________________________________\n",
      "conv2d_87 (Conv2D)              (None, 14, 14, 1024) 263168      activation_32[0][0]              \n",
      "__________________________________________________________________________________________________\n",
      "batch_normalization_59 (BatchNo (None, 14, 14, 1024) 4096        conv2d_88[0][0]                  \n",
      "__________________________________________________________________________________________________\n",
      "batch_normalization_58 (BatchNo (None, 14, 14, 1024) 4096        conv2d_87[0][0]                  \n",
      "__________________________________________________________________________________________________\n",
      "add_15 (Add)                    (None, 14, 14, 1024) 0           batch_normalization_59[0][0]     \n",
      "                                                                 batch_normalization_58[0][0]     \n",
      "__________________________________________________________________________________________________\n",
      "activation_33 (Activation)      (None, 14, 14, 1024) 0           add_15[0][0]                     \n",
      "__________________________________________________________________________________________________\n",
      "conv2d_89 (Conv2D)              (None, 14, 14, 256)  262400      activation_33[0][0]              \n",
      "__________________________________________________________________________________________________\n",
      "batch_normalization_60 (BatchNo (None, 14, 14, 256)  1024        conv2d_89[0][0]                  \n",
      "__________________________________________________________________________________________________\n",
      "activation_34 (Activation)      (None, 14, 14, 256)  0           batch_normalization_60[0][0]     \n",
      "__________________________________________________________________________________________________\n",
      "conv2d_90 (Conv2D)              (None, 14, 14, 256)  590080      activation_34[0][0]              \n",
      "__________________________________________________________________________________________________\n",
      "batch_normalization_61 (BatchNo (None, 14, 14, 256)  1024        conv2d_90[0][0]                  \n",
      "__________________________________________________________________________________________________\n",
      "activation_35 (Activation)      (None, 14, 14, 256)  0           batch_normalization_61[0][0]     \n",
      "__________________________________________________________________________________________________\n",
      "conv2d_92 (Conv2D)              (None, 14, 14, 1024) 1049600     activation_33[0][0]              \n",
      "__________________________________________________________________________________________________\n",
      "conv2d_91 (Conv2D)              (None, 14, 14, 1024) 263168      activation_35[0][0]              \n",
      "__________________________________________________________________________________________________\n",
      "batch_normalization_63 (BatchNo (None, 14, 14, 1024) 4096        conv2d_92[0][0]                  \n",
      "__________________________________________________________________________________________________\n",
      "batch_normalization_62 (BatchNo (None, 14, 14, 1024) 4096        conv2d_91[0][0]                  \n",
      "__________________________________________________________________________________________________\n",
      "add_16 (Add)                    (None, 14, 14, 1024) 0           batch_normalization_63[0][0]     \n",
      "                                                                 batch_normalization_62[0][0]     \n",
      "__________________________________________________________________________________________________\n",
      "activation_36 (Activation)      (None, 14, 14, 1024) 0           add_16[0][0]                     \n",
      "__________________________________________________________________________________________________\n",
      "conv2d_93 (Conv2D)              (None, 14, 14, 256)  262400      activation_36[0][0]              \n",
      "__________________________________________________________________________________________________\n",
      "batch_normalization_64 (BatchNo (None, 14, 14, 256)  1024        conv2d_93[0][0]                  \n",
      "__________________________________________________________________________________________________\n",
      "activation_37 (Activation)      (None, 14, 14, 256)  0           batch_normalization_64[0][0]     \n",
      "__________________________________________________________________________________________________\n",
      "conv2d_94 (Conv2D)              (None, 14, 14, 256)  590080      activation_37[0][0]              \n",
      "__________________________________________________________________________________________________\n",
      "batch_normalization_65 (BatchNo (None, 14, 14, 256)  1024        conv2d_94[0][0]                  \n",
      "__________________________________________________________________________________________________\n",
      "activation_38 (Activation)      (None, 14, 14, 256)  0           batch_normalization_65[0][0]     \n",
      "__________________________________________________________________________________________________\n",
      "conv2d_96 (Conv2D)              (None, 14, 14, 1024) 1049600     activation_36[0][0]              \n",
      "__________________________________________________________________________________________________\n",
      "conv2d_95 (Conv2D)              (None, 14, 14, 1024) 263168      activation_38[0][0]              \n",
      "__________________________________________________________________________________________________\n",
      "batch_normalization_67 (BatchNo (None, 14, 14, 1024) 4096        conv2d_96[0][0]                  \n",
      "__________________________________________________________________________________________________\n",
      "batch_normalization_66 (BatchNo (None, 14, 14, 1024) 4096        conv2d_95[0][0]                  \n",
      "__________________________________________________________________________________________________\n",
      "add_17 (Add)                    (None, 14, 14, 1024) 0           batch_normalization_67[0][0]     \n",
      "                                                                 batch_normalization_66[0][0]     \n",
      "__________________________________________________________________________________________________\n",
      "activation_39 (Activation)      (None, 14, 14, 1024) 0           add_17[0][0]                     \n",
      "__________________________________________________________________________________________________\n",
      "conv2d_97 (Conv2D)              (None, 7, 7, 512)    524800      activation_39[0][0]              \n",
      "__________________________________________________________________________________________________\n",
      "batch_normalization_68 (BatchNo (None, 7, 7, 512)    2048        conv2d_97[0][0]                  \n",
      "__________________________________________________________________________________________________\n",
      "activation_40 (Activation)      (None, 7, 7, 512)    0           batch_normalization_68[0][0]     \n",
      "__________________________________________________________________________________________________\n",
      "conv2d_98 (Conv2D)              (None, 7, 7, 512)    2359808     activation_40[0][0]              \n",
      "__________________________________________________________________________________________________\n",
      "batch_normalization_69 (BatchNo (None, 7, 7, 512)    2048        conv2d_98[0][0]                  \n",
      "__________________________________________________________________________________________________\n",
      "activation_41 (Activation)      (None, 7, 7, 512)    0           batch_normalization_69[0][0]     \n",
      "__________________________________________________________________________________________________\n",
      "conv2d_100 (Conv2D)             (None, 7, 7, 2048)   2099200     activation_39[0][0]              \n",
      "__________________________________________________________________________________________________\n",
      "conv2d_99 (Conv2D)              (None, 7, 7, 2048)   1050624     activation_41[0][0]              \n",
      "__________________________________________________________________________________________________\n",
      "batch_normalization_71 (BatchNo (None, 7, 7, 2048)   8192        conv2d_100[0][0]                 \n",
      "__________________________________________________________________________________________________\n",
      "batch_normalization_70 (BatchNo (None, 7, 7, 2048)   8192        conv2d_99[0][0]                  \n",
      "__________________________________________________________________________________________________\n",
      "add_18 (Add)                    (None, 7, 7, 2048)   0           batch_normalization_71[0][0]     \n",
      "                                                                 batch_normalization_70[0][0]     \n",
      "__________________________________________________________________________________________________\n",
      "activation_42 (Activation)      (None, 7, 7, 2048)   0           add_18[0][0]                     \n",
      "__________________________________________________________________________________________________\n",
      "conv2d_101 (Conv2D)             (None, 7, 7, 512)    1049088     activation_42[0][0]              \n",
      "__________________________________________________________________________________________________\n",
      "batch_normalization_72 (BatchNo (None, 7, 7, 512)    2048        conv2d_101[0][0]                 \n",
      "__________________________________________________________________________________________________\n",
      "activation_43 (Activation)      (None, 7, 7, 512)    0           batch_normalization_72[0][0]     \n",
      "__________________________________________________________________________________________________\n",
      "conv2d_102 (Conv2D)             (None, 7, 7, 512)    2359808     activation_43[0][0]              \n",
      "__________________________________________________________________________________________________\n",
      "batch_normalization_73 (BatchNo (None, 7, 7, 512)    2048        conv2d_102[0][0]                 \n",
      "__________________________________________________________________________________________________\n",
      "activation_44 (Activation)      (None, 7, 7, 512)    0           batch_normalization_73[0][0]     \n",
      "__________________________________________________________________________________________________\n",
      "conv2d_104 (Conv2D)             (None, 7, 7, 2048)   4196352     activation_42[0][0]              \n",
      "__________________________________________________________________________________________________\n",
      "conv2d_103 (Conv2D)             (None, 7, 7, 2048)   1050624     activation_44[0][0]              \n",
      "__________________________________________________________________________________________________\n",
      "batch_normalization_75 (BatchNo (None, 7, 7, 2048)   8192        conv2d_104[0][0]                 \n",
      "__________________________________________________________________________________________________\n",
      "batch_normalization_74 (BatchNo (None, 7, 7, 2048)   8192        conv2d_103[0][0]                 \n",
      "__________________________________________________________________________________________________\n",
      "add_19 (Add)                    (None, 7, 7, 2048)   0           batch_normalization_75[0][0]     \n",
      "                                                                 batch_normalization_74[0][0]     \n",
      "__________________________________________________________________________________________________\n",
      "activation_45 (Activation)      (None, 7, 7, 2048)   0           add_19[0][0]                     \n",
      "__________________________________________________________________________________________________\n",
      "conv2d_105 (Conv2D)             (None, 7, 7, 512)    1049088     activation_45[0][0]              \n",
      "__________________________________________________________________________________________________\n",
      "batch_normalization_76 (BatchNo (None, 7, 7, 512)    2048        conv2d_105[0][0]                 \n",
      "__________________________________________________________________________________________________\n",
      "activation_46 (Activation)      (None, 7, 7, 512)    0           batch_normalization_76[0][0]     \n",
      "__________________________________________________________________________________________________\n",
      "conv2d_106 (Conv2D)             (None, 7, 7, 512)    2359808     activation_46[0][0]              \n",
      "__________________________________________________________________________________________________\n",
      "batch_normalization_77 (BatchNo (None, 7, 7, 512)    2048        conv2d_106[0][0]                 \n",
      "__________________________________________________________________________________________________\n",
      "activation_47 (Activation)      (None, 7, 7, 512)    0           batch_normalization_77[0][0]     \n",
      "__________________________________________________________________________________________________\n",
      "conv2d_108 (Conv2D)             (None, 7, 7, 2048)   4196352     activation_45[0][0]              \n",
      "__________________________________________________________________________________________________\n",
      "conv2d_107 (Conv2D)             (None, 7, 7, 2048)   1050624     activation_47[0][0]              \n",
      "__________________________________________________________________________________________________\n",
      "batch_normalization_79 (BatchNo (None, 7, 7, 2048)   8192        conv2d_108[0][0]                 \n",
      "__________________________________________________________________________________________________\n",
      "batch_normalization_78 (BatchNo (None, 7, 7, 2048)   8192        conv2d_107[0][0]                 \n",
      "__________________________________________________________________________________________________\n",
      "add_20 (Add)                    (None, 7, 7, 2048)   0           batch_normalization_79[0][0]     \n",
      "                                                                 batch_normalization_78[0][0]     \n",
      "__________________________________________________________________________________________________\n",
      "activation_48 (Activation)      (None, 7, 7, 2048)   0           add_20[0][0]                     \n",
      "__________________________________________________________________________________________________\n",
      "conv2d_109 (Conv2D)             (None, 4, 4, 512)    1049088     activation_48[0][0]              \n",
      "__________________________________________________________________________________________________\n",
      "batch_normalization_80 (BatchNo (None, 4, 4, 512)    2048        conv2d_109[0][0]                 \n",
      "__________________________________________________________________________________________________\n",
      "activation_49 (Activation)      (None, 4, 4, 512)    0           batch_normalization_80[0][0]     \n",
      "__________________________________________________________________________________________________\n",
      "conv2d_110 (Conv2D)             (None, 4, 4, 512)    2359808     activation_49[0][0]              \n",
      "__________________________________________________________________________________________________\n",
      "batch_normalization_81 (BatchNo (None, 4, 4, 512)    2048        conv2d_110[0][0]                 \n",
      "__________________________________________________________________________________________________\n",
      "activation_50 (Activation)      (None, 4, 4, 512)    0           batch_normalization_81[0][0]     \n",
      "__________________________________________________________________________________________________\n",
      "conv2d_112 (Conv2D)             (None, 4, 4, 2048)   4196352     activation_48[0][0]              \n",
      "__________________________________________________________________________________________________\n",
      "conv2d_111 (Conv2D)             (None, 4, 4, 2048)   1050624     activation_50[0][0]              \n",
      "__________________________________________________________________________________________________\n",
      "batch_normalization_83 (BatchNo (None, 4, 4, 2048)   8192        conv2d_112[0][0]                 \n",
      "__________________________________________________________________________________________________\n",
      "batch_normalization_82 (BatchNo (None, 4, 4, 2048)   8192        conv2d_111[0][0]                 \n",
      "__________________________________________________________________________________________________\n",
      "add_21 (Add)                    (None, 4, 4, 2048)   0           batch_normalization_83[0][0]     \n",
      "                                                                 batch_normalization_82[0][0]     \n",
      "__________________________________________________________________________________________________\n",
      "activation_51 (Activation)      (None, 4, 4, 2048)   0           add_21[0][0]                     \n",
      "__________________________________________________________________________________________________\n",
      "conv2d_113 (Conv2D)             (None, 4, 4, 512)    1049088     activation_51[0][0]              \n",
      "__________________________________________________________________________________________________\n",
      "batch_normalization_84 (BatchNo (None, 4, 4, 512)    2048        conv2d_113[0][0]                 \n",
      "__________________________________________________________________________________________________\n",
      "activation_52 (Activation)      (None, 4, 4, 512)    0           batch_normalization_84[0][0]     \n",
      "__________________________________________________________________________________________________\n",
      "conv2d_114 (Conv2D)             (None, 4, 4, 512)    2359808     activation_52[0][0]              \n",
      "__________________________________________________________________________________________________\n",
      "batch_normalization_85 (BatchNo (None, 4, 4, 512)    2048        conv2d_114[0][0]                 \n",
      "__________________________________________________________________________________________________\n",
      "activation_53 (Activation)      (None, 4, 4, 512)    0           batch_normalization_85[0][0]     \n",
      "__________________________________________________________________________________________________\n",
      "conv2d_116 (Conv2D)             (None, 4, 4, 2048)   4196352     activation_51[0][0]              \n",
      "__________________________________________________________________________________________________\n",
      "conv2d_115 (Conv2D)             (None, 4, 4, 2048)   1050624     activation_53[0][0]              \n",
      "__________________________________________________________________________________________________\n",
      "batch_normalization_87 (BatchNo (None, 4, 4, 2048)   8192        conv2d_116[0][0]                 \n",
      "__________________________________________________________________________________________________\n",
      "batch_normalization_86 (BatchNo (None, 4, 4, 2048)   8192        conv2d_115[0][0]                 \n",
      "__________________________________________________________________________________________________\n",
      "add_22 (Add)                    (None, 4, 4, 2048)   0           batch_normalization_87[0][0]     \n",
      "                                                                 batch_normalization_86[0][0]     \n",
      "__________________________________________________________________________________________________\n",
      "activation_54 (Activation)      (None, 4, 4, 2048)   0           add_22[0][0]                     \n",
      "__________________________________________________________________________________________________\n",
      "conv2d_117 (Conv2D)             (None, 4, 4, 512)    1049088     activation_54[0][0]              \n",
      "__________________________________________________________________________________________________\n",
      "batch_normalization_88 (BatchNo (None, 4, 4, 512)    2048        conv2d_117[0][0]                 \n",
      "__________________________________________________________________________________________________\n",
      "activation_55 (Activation)      (None, 4, 4, 512)    0           batch_normalization_88[0][0]     \n",
      "__________________________________________________________________________________________________\n",
      "conv2d_118 (Conv2D)             (None, 4, 4, 512)    2359808     activation_55[0][0]              \n",
      "__________________________________________________________________________________________________\n",
      "batch_normalization_89 (BatchNo (None, 4, 4, 512)    2048        conv2d_118[0][0]                 \n",
      "__________________________________________________________________________________________________\n",
      "activation_56 (Activation)      (None, 4, 4, 512)    0           batch_normalization_89[0][0]     \n",
      "__________________________________________________________________________________________________\n",
      "conv2d_120 (Conv2D)             (None, 4, 4, 2048)   4196352     activation_54[0][0]              \n",
      "__________________________________________________________________________________________________\n",
      "conv2d_119 (Conv2D)             (None, 4, 4, 2048)   1050624     activation_56[0][0]              \n",
      "__________________________________________________________________________________________________\n",
      "batch_normalization_91 (BatchNo (None, 4, 4, 2048)   8192        conv2d_120[0][0]                 \n",
      "__________________________________________________________________________________________________\n",
      "batch_normalization_90 (BatchNo (None, 4, 4, 2048)   8192        conv2d_119[0][0]                 \n",
      "__________________________________________________________________________________________________\n",
      "add_23 (Add)                    (None, 4, 4, 2048)   0           batch_normalization_91[0][0]     \n",
      "                                                                 batch_normalization_90[0][0]     \n",
      "__________________________________________________________________________________________________\n",
      "activation_57 (Activation)      (None, 4, 4, 2048)   0           add_23[0][0]                     \n",
      "__________________________________________________________________________________________________\n",
      "average_pooling2d (AveragePooli (None, 2, 2, 2048)   0           activation_57[0][0]              \n",
      "__________________________________________________________________________________________________\n",
      "flatten_4 (Flatten)             (None, 8192)         0           average_pooling2d[0][0]          \n",
      "__________________________________________________________________________________________________\n",
      "dropout_19 (Dropout)            (None, 8192)         0           flatten_4[0][0]                  \n",
      "__________________________________________________________________________________________________\n",
      "dense_20 (Dense)                (None, 512)          4194816     dropout_19[0][0]                 \n",
      "__________________________________________________________________________________________________\n",
      "dropout_20 (Dropout)            (None, 512)          0           dense_20[0][0]                   \n",
      "__________________________________________________________________________________________________\n",
      "dense_21 (Dense)                (None, 50)           25650       dropout_20[0][0]                 \n",
      "==================================================================================================\n",
      "Total params: 68,442,546\n",
      "Trainable params: 68,336,178\n",
      "Non-trainable params: 106,368\n",
      "__________________________________________________________________________________________________\n"
     ]
    }
   ],
   "source": [
    "res_model3.summary()"
   ]
  },
  {
   "cell_type": "code",
   "execution_count": 57,
   "metadata": {},
   "outputs": [],
   "source": [
    "os.mkdir('tmp')\n",
    "checkpoint_filepath='tmp'"
   ]
  },
  {
   "cell_type": "code",
   "execution_count": 59,
   "metadata": {},
   "outputs": [
    {
     "name": "stdout",
     "output_type": "stream",
     "text": [
      "WARNING:tensorflow:`epsilon` argument is deprecated and will be removed, use `min_delta` instead.\n",
      "Epoch 1/3\n",
      "618/618 [==============================] - 152s 246ms/step - loss: 5.4403 - accuracy: 0.0179 - val_loss: 3.9907 - val_accuracy: 0.0180\n",
      "Epoch 2/3\n",
      "618/618 [==============================] - 150s 243ms/step - loss: 5.4692 - accuracy: 0.0186 - val_loss: 4.0059 - val_accuracy: 0.0158\n",
      "Epoch 3/3\n",
      "618/618 [==============================] - 151s 244ms/step - loss: 5.4548 - accuracy: 0.0162 - val_loss: 3.9951 - val_accuracy: 0.0158\n"
     ]
    }
   ],
   "source": [
    "reduce_lr_loss = ReduceLROnPlateau(monitor='val_loss', factor=0.1, patience=7, verbose=1, epsilon=1e-4, mode='min')\n",
    "early_stopping = EarlyStopping(monitor='val_accuracy',patience=10,restore_best_weights=True)\n",
    "\n",
    "model_checkpoint_callback = ModelCheckpoint(filepath=checkpoint_filepath,save_weights_only=True,monitor='val_accuracy',mode='max',save_best_only=True)\n",
    "\n",
    "history1= res_model3.fit(X_train_aug,y_train_augc,validation_data=(X_val,y_valc),callbacks=[reduce_lr_loss,early_stopping,model_checkpoint_callback],epochs=3)"
   ]
  },
  {
   "cell_type": "code",
   "execution_count": null,
   "metadata": {},
   "outputs": [],
   "source": []
  }
 ],
 "metadata": {
  "kernelspec": {
   "display_name": "Python 3",
   "language": "python",
   "name": "python3"
  },
  "language_info": {
   "codemirror_mode": {
    "name": "ipython",
    "version": 3
   },
   "file_extension": ".py",
   "mimetype": "text/x-python",
   "name": "python",
   "nbconvert_exporter": "python",
   "pygments_lexer": "ipython3",
   "version": "3.8.3"
  }
 },
 "nbformat": 4,
 "nbformat_minor": 4
}
